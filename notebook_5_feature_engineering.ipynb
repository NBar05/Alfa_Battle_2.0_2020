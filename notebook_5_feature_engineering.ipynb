{
 "cells": [
  {
   "cell_type": "code",
   "execution_count": 475,
   "metadata": {
    "cellId": "sn6m9sv5t7sxu0zhx8tgj"
   },
   "outputs": [],
   "source": [
    "import os \n",
    "import sys\n",
    "import time\n",
    "import datetime\n",
    "import itertools\n",
    "import collections\n",
    "\n",
    "import numpy as np\n",
    "import pandas as pd\n",
    "import scipy as sc\n",
    "\n",
    "import matplotlib.pyplot as plt\n",
    "import seaborn as sns\n",
    "%matplotlib inline"
   ]
  },
  {
   "cell_type": "markdown",
   "metadata": {
    "cellId": "zgywizpbnxgz5vqyxl9p"
   },
   "source": [
    "* __timestamp__ - дата и время совершения события\n",
    "\n",
    "* __application_id__- идентификатор приложения\n",
    "\n",
    "* __client__ - Идентификатор клиента \n",
    "\n",
    "* __session_id__ - Идентификатор сессии\n",
    "\n",
    "* __event_type__ - Тип события\n",
    "\n",
    "* __event_category__ - Категория события\n",
    "\n",
    "* __event_name__ - Имя события\n",
    "\n",
    "* __event_label__ - Дополнительный атрибут события\n",
    " \n",
    "* __device_screen_name__ - Имя экрана на котором произошло событие\n",
    "\n",
    "* __timezone__ - Часовой пояс\n",
    "\n",
    "* __device_is_webview__ - Флаг того что страница открыта внутри webview\n",
    " \n",
    "* __page_urlhost__ - Домен страницы\n",
    "\n",
    "* __page_urlpath_full__ - Путь страницы\n",
    "\n",
    "* __net_connection_type__ - Тип подключения\n",
    "\n",
    "* __net_connection_tech__ - Технология подключения"
   ]
  },
  {
   "cell_type": "code",
   "execution_count": 476,
   "metadata": {
    "cellId": "ms3ncoieklm9j25sdazi3t",
    "scrolled": true
   },
   "outputs": [
    {
     "name": "stdout",
     "output_type": "stream",
     "text": [
      "(5065350, 4)\n"
     ]
    },
    {
     "data": {
      "text/html": [
       "<div>\n",
       "<style scoped>\n",
       "    .dataframe tbody tr th:only-of-type {\n",
       "        vertical-align: middle;\n",
       "    }\n",
       "\n",
       "    .dataframe tbody tr th {\n",
       "        vertical-align: top;\n",
       "    }\n",
       "\n",
       "    .dataframe thead th {\n",
       "        text-align: right;\n",
       "    }\n",
       "</style>\n",
       "<table border=\"1\" class=\"dataframe\">\n",
       "  <thead>\n",
       "    <tr style=\"text-align: right;\">\n",
       "      <th></th>\n",
       "      <th>session_id</th>\n",
       "      <th>client_pin</th>\n",
       "      <th>timestamp</th>\n",
       "      <th>multi_class_target</th>\n",
       "    </tr>\n",
       "  </thead>\n",
       "  <tbody>\n",
       "    <tr>\n",
       "      <th>0</th>\n",
       "      <td>01e2bfc05dda08dd9ea3e881e45858cc</td>\n",
       "      <td>000033b6509acd1c8eb0d06ebd2e1de9</td>\n",
       "      <td>2020-09-04 16:23:23</td>\n",
       "      <td>main_screen</td>\n",
       "    </tr>\n",
       "    <tr>\n",
       "      <th>1</th>\n",
       "      <td>046e7a872bc29e8fd38fab3cd7bb3636</td>\n",
       "      <td>000033b6509acd1c8eb0d06ebd2e1de9</td>\n",
       "      <td>2020-07-27 19:07:38</td>\n",
       "      <td>main_screen</td>\n",
       "    </tr>\n",
       "    <tr>\n",
       "      <th>2</th>\n",
       "      <td>0512ce7ff813662409ca40acbd1d16df</td>\n",
       "      <td>000033b6509acd1c8eb0d06ebd2e1de9</td>\n",
       "      <td>2020-02-22 23:18:45</td>\n",
       "      <td>main_screen</td>\n",
       "    </tr>\n",
       "  </tbody>\n",
       "</table>\n",
       "</div>"
      ],
      "text/plain": [
       "                         session_id                        client_pin  \\\n",
       "0  01e2bfc05dda08dd9ea3e881e45858cc  000033b6509acd1c8eb0d06ebd2e1de9   \n",
       "1  046e7a872bc29e8fd38fab3cd7bb3636  000033b6509acd1c8eb0d06ebd2e1de9   \n",
       "2  0512ce7ff813662409ca40acbd1d16df  000033b6509acd1c8eb0d06ebd2e1de9   \n",
       "\n",
       "            timestamp multi_class_target  \n",
       "0 2020-09-04 16:23:23        main_screen  \n",
       "1 2020-07-27 19:07:38        main_screen  \n",
       "2 2020-02-22 23:18:45        main_screen  "
      ]
     },
     "metadata": {},
     "output_type": "display_data"
    }
   ],
   "source": [
    "train_part = pd.read_csv('alfabattle2_abattle_train_target.csv', parse_dates=['timestamp'])\n",
    "train_part.sort_values(['client_pin', 'session_id', 'timestamp'], inplace=True)\n",
    "train_part.reset_index(inplace=True, drop=True)\n",
    "print(train_part.shape)\n",
    "train_part.head(3)"
   ]
  },
  {
   "cell_type": "code",
   "execution_count": 477,
   "metadata": {
    "cellId": "vnhh88q1ga980x6tnf38xi"
   },
   "outputs": [
    {
     "name": "stdout",
     "output_type": "stream",
     "text": [
      "(79268, 2)\n"
     ]
    },
    {
     "data": {
      "text/html": [
       "<div>\n",
       "<style scoped>\n",
       "    .dataframe tbody tr th:only-of-type {\n",
       "        vertical-align: middle;\n",
       "    }\n",
       "\n",
       "    .dataframe tbody tr th {\n",
       "        vertical-align: top;\n",
       "    }\n",
       "\n",
       "    .dataframe thead th {\n",
       "        text-align: right;\n",
       "    }\n",
       "</style>\n",
       "<table border=\"1\" class=\"dataframe\">\n",
       "  <thead>\n",
       "    <tr style=\"text-align: right;\">\n",
       "      <th></th>\n",
       "      <th>client_pin</th>\n",
       "      <th>timestamp</th>\n",
       "    </tr>\n",
       "  </thead>\n",
       "  <tbody>\n",
       "    <tr>\n",
       "      <th>0</th>\n",
       "      <td>f0c674b2bb4dc64be607029271d706ec</td>\n",
       "      <td>2020-08-01 00:00:53</td>\n",
       "    </tr>\n",
       "    <tr>\n",
       "      <th>1</th>\n",
       "      <td>90725b54ce77576883813d87749df6bd</td>\n",
       "      <td>2020-08-01 00:02:57</td>\n",
       "    </tr>\n",
       "    <tr>\n",
       "      <th>2</th>\n",
       "      <td>eb0f82d74c7b7bd5eafbd5b5f8cb3e2a</td>\n",
       "      <td>2020-08-01 00:03:14</td>\n",
       "    </tr>\n",
       "  </tbody>\n",
       "</table>\n",
       "</div>"
      ],
      "text/plain": [
       "                         client_pin           timestamp\n",
       "0  f0c674b2bb4dc64be607029271d706ec 2020-08-01 00:00:53\n",
       "1  90725b54ce77576883813d87749df6bd 2020-08-01 00:02:57\n",
       "2  eb0f82d74c7b7bd5eafbd5b5f8cb3e2a 2020-08-01 00:03:14"
      ]
     },
     "metadata": {},
     "output_type": "display_data"
    }
   ],
   "source": [
    "test_part = pd.read_csv('alfabattle2_prediction_session_timestamp.csv', parse_dates=['timestamp'])\n",
    "print(test_part.shape)\n",
    "test_part.head(3)"
   ]
  },
  {
   "cell_type": "code",
   "execution_count": 478,
   "metadata": {
    "cellId": "ctuooriwbgvmxv177wejnj"
   },
   "outputs": [
    {
     "name": "stdout",
     "output_type": "stream",
     "text": [
      "(79268, 2)\n"
     ]
    },
    {
     "data": {
      "text/html": [
       "<div>\n",
       "<style scoped>\n",
       "    .dataframe tbody tr th:only-of-type {\n",
       "        vertical-align: middle;\n",
       "    }\n",
       "\n",
       "    .dataframe tbody tr th {\n",
       "        vertical-align: top;\n",
       "    }\n",
       "\n",
       "    .dataframe thead th {\n",
       "        text-align: right;\n",
       "    }\n",
       "</style>\n",
       "<table border=\"1\" class=\"dataframe\">\n",
       "  <thead>\n",
       "    <tr style=\"text-align: right;\">\n",
       "      <th></th>\n",
       "      <th>client_pin</th>\n",
       "      <th>prediction</th>\n",
       "    </tr>\n",
       "  </thead>\n",
       "  <tbody>\n",
       "    <tr>\n",
       "      <th>0</th>\n",
       "      <td>f0c674b2bb4dc64be607029271d706ec</td>\n",
       "      <td>credit_info</td>\n",
       "    </tr>\n",
       "    <tr>\n",
       "      <th>1</th>\n",
       "      <td>90725b54ce77576883813d87749df6bd</td>\n",
       "      <td>credit_info</td>\n",
       "    </tr>\n",
       "    <tr>\n",
       "      <th>2</th>\n",
       "      <td>eb0f82d74c7b7bd5eafbd5b5f8cb3e2a</td>\n",
       "      <td>own_transfer</td>\n",
       "    </tr>\n",
       "  </tbody>\n",
       "</table>\n",
       "</div>"
      ],
      "text/plain": [
       "                         client_pin    prediction\n",
       "0  f0c674b2bb4dc64be607029271d706ec   credit_info\n",
       "1  90725b54ce77576883813d87749df6bd   credit_info\n",
       "2  eb0f82d74c7b7bd5eafbd5b5f8cb3e2a  own_transfer"
      ]
     },
     "metadata": {},
     "output_type": "display_data"
    }
   ],
   "source": [
    "sample_sub = pd.read_csv('alfabattle2_abattle_sample_prediction.csv')\n",
    "print(sample_sub.shape)\n",
    "sample_sub.head(3)"
   ]
  },
  {
   "cell_type": "markdown",
   "metadata": {
    "cellId": "cq6whe64exhlln0z2vjyd"
   },
   "source": [
    "## Feature engineering with click dataset"
   ]
  },
  {
   "cell_type": "code",
   "execution_count": 479,
   "metadata": {
    "cellId": "70z970z3013wkte7gmoceg"
   },
   "outputs": [],
   "source": [
    "zone = ['Europe', 'Asia', 'Africa', 'Australia', 'Pacific', 'Antarctica', 'America', 'Etc']\n",
    "\n",
    "city = ['Moscow', 'Yekaterinburg', 'Krasnoyarsk', 'Samara', 'Minsk', 'Novosibirsk', 'Omsk', 'Vladivostok', 'Irkutsk',\n",
    "        'Kaliningrad', 'Ho_Chi_Minh', 'Volgograd', 'Novokuznetsk', 'Karachi', 'Dubai', 'Yakutsk', 'Bangkok', 'Kolkata',\n",
    "        'Shanghai', 'Baku', 'Magadan', 'Almaty', 'Saratov', 'Kiev', 'Yerevan', 'Addis_Ababa', 'Tbilisi', 'Jakarta', 'Kamchatka']\n",
    "\n",
    "cats = ['Application Lifecycle', 'SingleStatement', 'Bottom Navigation', 'Main Screen', 'Widget Dashboard', 'Card To Card Transfer', \n",
    "        'Push', 'ResultScreen', 'All Payments', 'Bank_Offer', 'Chat', 'Investments', 'Recharge', 'Credit Info', 'ClientPhoneTransfer', \n",
    "        'Operations', 'user', 'ReverseCashBack', 'mobile', 'Advice']"
   ]
  },
  {
   "cell_type": "code",
   "execution_count": 480,
   "metadata": {
    "cellId": "aj1ypsskt28hj6iejdlixq"
   },
   "outputs": [
    {
     "name": "stdout",
     "output_type": "stream",
     "text": [
      "0-set, time: 01:58:58.166314\n",
      "(8644341, 10)\n",
      "(526700, 38)\n",
      "--------------------------\n",
      "\n",
      "1-set, time: 02:27:49.320097\n",
      "(8430545, 10)\n",
      "(516736, 38)\n",
      "--------------------------\n",
      "\n",
      "2-set, time: 02:56:22.373258\n",
      "(7982539, 10)\n",
      "(482861, 38)\n",
      "--------------------------\n",
      "\n",
      "3-set, time: 03:23:07.165477\n",
      "(8485579, 10)\n",
      "(516789, 38)\n",
      "--------------------------\n",
      "\n",
      "4-set, time: 03:51:45.742894\n",
      "(8305089, 10)\n",
      "(505136, 38)\n",
      "--------------------------\n",
      "\n",
      "5-set, time: 04:19:44.797431\n",
      "(8176490, 10)\n",
      "(499672, 38)\n",
      "--------------------------\n",
      "\n",
      "6-set, time: 04:47:44.941994\n",
      "(8344834, 10)\n",
      "(500210, 38)\n",
      "--------------------------\n",
      "\n",
      "7-set, time: 05:15:37.402025\n",
      "(8571231, 10)\n",
      "(519316, 38)\n",
      "--------------------------\n",
      "\n",
      "8-set, time: 05:44:33.248389\n",
      "(8104973, 10)\n",
      "(499397, 38)\n",
      "--------------------------\n",
      "\n",
      "9-set, time: 06:12:21.336276\n",
      "(8147199, 10)\n",
      "(498533, 38)\n",
      "--------------------------\n",
      "\n"
     ]
    }
   ],
   "source": [
    "for i in range(0, 10, 1):\n",
    "    print(f'{i}-set, time: {(datetime.datetime.now() + datetime.timedelta(hours=3)).time()}')\n",
    "    \n",
    "    click = pd.read_parquet(f'part-0000{i}.parquet')\n",
    "    click = click.loc[click.session_id.isin(train_part.session_id.unique())]\n",
    "    click.drop(columns=['event_label', 'page_urlpath_full', 'device_screen_name', \n",
    "                        'event_name', 'net_connection_tech'],\n",
    "               inplace=True)\n",
    "    click.sort_values(['client', 'session_id', 'timestamp'], inplace=True)\n",
    "    click.reset_index(inplace=True, drop=True)\n",
    "    print(click.shape)\n",
    "\n",
    "    locations = click.timezone.str.split(pat=\"/\", n=1, expand=True)\n",
    "    locations.loc[~ locations[0].isin(zone), 0] = 'Etc'\n",
    "    locations.loc[~ locations[1].isin(city), 1] = 'Other'\n",
    "    locations = pd.concat([click.loc[:, ['session_id']], locations], axis=1)\n",
    "\n",
    "    locations = locations.drop_duplicates(subset='session_id', keep='last').reset_index(drop=True)\n",
    "    locations.rename(columns={0: 'zone', 1: 'city'}, inplace=True)\n",
    "    locations.head(3)\n",
    "\n",
    "    click.drop(columns='timezone', inplace=True)\n",
    "\n",
    "\n",
    "    click.loc[click.application_id.str.find('retail') != -1, 'application_id'] = 'retail'\n",
    "    click.loc[click.application_id.isin(['ncl', 'passport_metrics']), 'application_id'] = 'mobile'\n",
    "\n",
    "    applications = click.groupby('session_id').apply(lambda group: group.application_id.value_counts(normalize=True)\n",
    "                                                   ).reset_index().pivot(index=\"session_id\", columns=\"level_1\", \n",
    "                                                                         values=\"application_id\").reset_index().fillna(0)\n",
    "    click.drop(columns='application_id', inplace=True)\n",
    "\n",
    "\n",
    "    durations = click.groupby('session_id').apply(lambda group: group.timestamp.iloc[-1] - group.timestamp.iloc[0]\n",
    "                                                 ).reset_index().rename(columns={0: 'duration'})\n",
    "    durations.loc[:, 'duration'] = durations.duration.astype('timedelta64[ms]')\n",
    "    click.drop(columns='timestamp', inplace=True)\n",
    "\n",
    "\n",
    "    event_types = click.groupby('session_id').apply(lambda group: group.event_type.value_counts(normalize=True)\n",
    "                                                   ).reset_index().pivot(index=\"session_id\", columns=\"level_1\", \n",
    "                                                                         values=\"event_type\").reset_index().fillna(0)\n",
    "    event_types.drop(columns='err', inplace=True)\n",
    "    click.drop(columns='event_type', inplace=True)\n",
    "\n",
    "\n",
    "    click.loc[~ click.event_category.isin(cats), 'event_category'] = np.nan\n",
    "    event_categories = click.groupby('session_id').apply(lambda group: group.event_category.value_counts(normalize=True)\n",
    "                                                        ).reset_index().pivot(index=\"session_id\", columns=\"level_1\", \n",
    "                                                                              values=\"event_category\").reset_index().fillna(0)\n",
    "    click.drop(columns='event_category', inplace=True)\n",
    "\n",
    "\n",
    "    click.loc[:, 'online_alfa_ru'] = False\n",
    "    click.loc[:, 'click_alfa_ru'] = False\n",
    "    click.loc[:, 'anketa_alfa_ru'] = False\n",
    "    click.loc[:, 'alfa_ru'] = False\n",
    "\n",
    "    click.loc[click.page_urlhost == 'online.alfabank.ru', 'online_alfa_ru'] = True\n",
    "    click.loc[click.page_urlhost == 'click.alfabank.ru', 'click_alfa_ru'] = True\n",
    "    click.loc[click.page_urlhost == 'anketa.alfabank.ru', 'anketa_alfa_ru'] = True\n",
    "    click.loc[click.page_urlhost == 'alfabank.ru', 'alfa_ru'] = True\n",
    "\n",
    "    click.drop(columns='page_urlhost', inplace=True)\n",
    "\n",
    "\n",
    "    click.fillna('offline', inplace=True)\n",
    "\n",
    "    net_types = click.loc[:, ['session_id', 'net_connection_type']].drop_duplicates(subset='session_id', keep='last')\n",
    "    click.drop(columns='net_connection_type', inplace=True)\n",
    "\n",
    "\n",
    "    click.device_is_webview.fillna(False, inplace=True)\n",
    "    boolings = click.groupby('session_id').apply(lambda group: group.loc[:, 'device_is_webview':'alfa_ru'].any(axis=0)\n",
    "                                                ).reset_index()\n",
    "\n",
    "    part = locations.merge(applications, on='session_id', how='outer'\n",
    "                          ).merge(durations, on='session_id', how='outer'\n",
    "                                 ).merge(event_types, on='session_id', how='outer'\n",
    "                                        ).merge(event_categories, on='session_id', how='outer'\n",
    "                                               ).merge(net_types, on='session_id', how='outer'\n",
    "                                                      ).merge(boolings, on='session_id', how='outer')\n",
    "    print(part.shape)\n",
    "    print('--------------------------')\n",
    "    print()\n",
    "    \n",
    "    part.to_pickle(f'part_{i}.pkl')"
   ]
  },
  {
   "cell_type": "code",
   "execution_count": 481,
   "metadata": {
    "cellId": "2m2a7sxaivu7v5avb73ilm"
   },
   "outputs": [],
   "source": [
    "parts = pd.concat([pd.read_pickle(f'part_{i}.pkl') for i in range(0, 10, 1)], axis=0)\n",
    "train_part = train_part.merge(parts, on='session_id', how='left')\n",
    "train_part.to_pickle('big_train.pkl')"
   ]
  }
 ],
 "metadata": {
  "kernelspec": {
   "display_name": "Python 3",
   "language": "python",
   "name": "python3"
  },
  "language_info": {
   "codemirror_mode": {
    "name": "ipython",
    "version": 3
   },
   "file_extension": ".py",
   "mimetype": "text/x-python",
   "name": "python",
   "nbconvert_exporter": "python",
   "pygments_lexer": "ipython3",
   "version": "3.8.1"
  },
  "notebookId": "e84016c4-b77d-44e1-a389-fcf5964714bd"
 },
 "nbformat": 4,
 "nbformat_minor": 4
}
