{
 "cells": [
  {
   "cell_type": "code",
   "execution_count": 1,
   "metadata": {},
   "outputs": [],
   "source": [
    "import os \n",
    "import sys\n",
    "import time\n",
    "import datetime\n",
    "import dateutils\n",
    "import collections\n",
    "import itertools\n",
    "from tqdm.notebook import tqdm\n",
    "\n",
    "import numpy as np\n",
    "import pandas as pd\n",
    "import scipy as sci\n",
    "from matplotlib_venn import venn2, venn2_circles, venn3, venn3_circles\n",
    "import matplotlib\n",
    "import matplotlib.pyplot as plt\n",
    "import seaborn as sns\n",
    "%matplotlib inline"
   ]
  },
  {
   "cell_type": "code",
   "execution_count": 2,
   "metadata": {},
   "outputs": [],
   "source": [
    "matplotlib.rcParams['figure.figsize'] = (10, 7)\n",
    "sns.set_style('whitegrid')"
   ]
  },
  {
   "cell_type": "markdown",
   "metadata": {},
   "source": [
    "* __timestamp__ - дата и время совершения события\n",
    "\n",
    "* __application_id__- идентификатор приложения\n",
    "\n",
    "* __client__ - Идентификатор клиента \n",
    "\n",
    "* __session_id__ - Идентификатор сессии\n",
    "\n",
    "* __event_type__ - Тип события\n",
    "\n",
    "* __event_category__ - Категория события\n",
    "\n",
    "* __event_name__ - Имя события\n",
    "\n",
    "* __event_label__ - Дополнительный атрибут события\n",
    " \n",
    "* __device_screen_name__ - Имя экрана на котором произошло событие\n",
    "\n",
    "* __timezone__ - Часовой пояс\n",
    "\n",
    "* __device_is_webview__ - Флаг того что страница открыта внутри webview\n",
    " \n",
    "* __page_urlhost__ - Домен страницы\n",
    "\n",
    "* __page_urlpath_full__ - Путь страницы\n",
    "\n",
    "* __net_connection_type__ - Тип подключения\n",
    "\n",
    "* __net_connection_tech__ - Технология подключения"
   ]
  },
  {
   "cell_type": "markdown",
   "metadata": {},
   "source": [
    "- __client_pin__ - Идентификатор клиента \n",
    "- __session_id__ - Идентификатор сессии\n",
    "- __timestamp__ - Время начала сессии\n",
    "- __target__ - Целевое действие внутри сессии, multi-class переменная"
   ]
  },
  {
   "cell_type": "code",
   "execution_count": 3,
   "metadata": {},
   "outputs": [
    {
     "name": "stdout",
     "output_type": "stream",
     "text": [
      "(12468595, 14)\n"
     ]
    },
    {
     "data": {
      "text/html": [
       "<div>\n",
       "<style scoped>\n",
       "    .dataframe tbody tr th:only-of-type {\n",
       "        vertical-align: middle;\n",
       "    }\n",
       "\n",
       "    .dataframe tbody tr th {\n",
       "        vertical-align: top;\n",
       "    }\n",
       "\n",
       "    .dataframe thead th {\n",
       "        text-align: right;\n",
       "    }\n",
       "</style>\n",
       "<table border=\"1\" class=\"dataframe\">\n",
       "  <thead>\n",
       "    <tr style=\"text-align: right;\">\n",
       "      <th></th>\n",
       "      <th>index</th>\n",
       "      <th>timestamp</th>\n",
       "      <th>application_id</th>\n",
       "      <th>client</th>\n",
       "      <th>session_id</th>\n",
       "      <th>event_type</th>\n",
       "      <th>event_category</th>\n",
       "      <th>event_name</th>\n",
       "      <th>device_screen_name</th>\n",
       "      <th>timezone</th>\n",
       "      <th>device_is_webview</th>\n",
       "      <th>page_urlhost</th>\n",
       "      <th>net_connection_type</th>\n",
       "      <th>net_connection_tech</th>\n",
       "    </tr>\n",
       "  </thead>\n",
       "  <tbody>\n",
       "    <tr>\n",
       "      <th>0</th>\n",
       "      <td>241683</td>\n",
       "      <td>2020-09-20 10:22:59.350</td>\n",
       "      <td>mobile</td>\n",
       "      <td>0014a49ec89e3a43098375b107f8ff2e</td>\n",
       "      <td>13c9eab5215d015776acb80675f9d70d</td>\n",
       "      <td>se</td>\n",
       "      <td>Application Lifecycle</td>\n",
       "      <td>Foreground</td>\n",
       "      <td>None</td>\n",
       "      <td>Europe/Moscow</td>\n",
       "      <td>True</td>\n",
       "      <td>None</td>\n",
       "      <td>mobile</td>\n",
       "      <td>HSPA+</td>\n",
       "    </tr>\n",
       "    <tr>\n",
       "      <th>1</th>\n",
       "      <td>6872214</td>\n",
       "      <td>2020-09-20 10:23:00.508</td>\n",
       "      <td>mobile</td>\n",
       "      <td>0014a49ec89e3a43098375b107f8ff2e</td>\n",
       "      <td>13c9eab5215d015776acb80675f9d70d</td>\n",
       "      <td>sv</td>\n",
       "      <td>None</td>\n",
       "      <td>None</td>\n",
       "      <td>SignInActivity</td>\n",
       "      <td>Europe/Moscow</td>\n",
       "      <td>True</td>\n",
       "      <td>None</td>\n",
       "      <td>mobile</td>\n",
       "      <td>HSPA+</td>\n",
       "    </tr>\n",
       "    <tr>\n",
       "      <th>2</th>\n",
       "      <td>6750675</td>\n",
       "      <td>2020-09-20 10:23:09.566</td>\n",
       "      <td>mobile</td>\n",
       "      <td>0014a49ec89e3a43098375b107f8ff2e</td>\n",
       "      <td>13c9eab5215d015776acb80675f9d70d</td>\n",
       "      <td>sv</td>\n",
       "      <td>None</td>\n",
       "      <td>None</td>\n",
       "      <td>MainListOnWidgetsFragment</td>\n",
       "      <td>Europe/Moscow</td>\n",
       "      <td>True</td>\n",
       "      <td>None</td>\n",
       "      <td>mobile</td>\n",
       "      <td>HSPA+</td>\n",
       "    </tr>\n",
       "  </tbody>\n",
       "</table>\n",
       "</div>"
      ],
      "text/plain": [
       "     index               timestamp application_id  \\\n",
       "0   241683 2020-09-20 10:22:59.350         mobile   \n",
       "1  6872214 2020-09-20 10:23:00.508         mobile   \n",
       "2  6750675 2020-09-20 10:23:09.566         mobile   \n",
       "\n",
       "                             client                        session_id  \\\n",
       "0  0014a49ec89e3a43098375b107f8ff2e  13c9eab5215d015776acb80675f9d70d   \n",
       "1  0014a49ec89e3a43098375b107f8ff2e  13c9eab5215d015776acb80675f9d70d   \n",
       "2  0014a49ec89e3a43098375b107f8ff2e  13c9eab5215d015776acb80675f9d70d   \n",
       "\n",
       "  event_type         event_category  event_name         device_screen_name  \\\n",
       "0         se  Application Lifecycle  Foreground                       None   \n",
       "1         sv                   None        None             SignInActivity   \n",
       "2         sv                   None        None  MainListOnWidgetsFragment   \n",
       "\n",
       "        timezone device_is_webview page_urlhost net_connection_type  \\\n",
       "0  Europe/Moscow              True         None              mobile   \n",
       "1  Europe/Moscow              True         None              mobile   \n",
       "2  Europe/Moscow              True         None              mobile   \n",
       "\n",
       "  net_connection_tech  \n",
       "0               HSPA+  \n",
       "1               HSPA+  \n",
       "2               HSPA+  "
      ]
     },
     "execution_count": 3,
     "metadata": {},
     "output_type": "execute_result"
    }
   ],
   "source": [
    "click_0 = pd.read_parquet('alfabattle2_abattle_clickstream/part-00000.parquet')\n",
    "click_0.drop(columns=['event_label', 'page_urlpath_full'], inplace=True)\n",
    "click_0.sort_values(['client', 'session_id', 'timestamp'], inplace=True)\n",
    "click_0.reset_index(inplace=True)\n",
    "print(click_0.shape)\n",
    "click_0.head(3)"
   ]
  },
  {
   "cell_type": "code",
   "execution_count": 4,
   "metadata": {
    "scrolled": true
   },
   "outputs": [
    {
     "name": "stdout",
     "output_type": "stream",
     "text": [
      "(5065350, 5)\n"
     ]
    },
    {
     "data": {
      "text/html": [
       "<div>\n",
       "<style scoped>\n",
       "    .dataframe tbody tr th:only-of-type {\n",
       "        vertical-align: middle;\n",
       "    }\n",
       "\n",
       "    .dataframe tbody tr th {\n",
       "        vertical-align: top;\n",
       "    }\n",
       "\n",
       "    .dataframe thead th {\n",
       "        text-align: right;\n",
       "    }\n",
       "</style>\n",
       "<table border=\"1\" class=\"dataframe\">\n",
       "  <thead>\n",
       "    <tr style=\"text-align: right;\">\n",
       "      <th></th>\n",
       "      <th>index</th>\n",
       "      <th>session_id</th>\n",
       "      <th>client_pin</th>\n",
       "      <th>timestamp</th>\n",
       "      <th>multi_class_target</th>\n",
       "    </tr>\n",
       "  </thead>\n",
       "  <tbody>\n",
       "    <tr>\n",
       "      <th>0</th>\n",
       "      <td>121700</td>\n",
       "      <td>01e2bfc05dda08dd9ea3e881e45858cc</td>\n",
       "      <td>000033b6509acd1c8eb0d06ebd2e1de9</td>\n",
       "      <td>2020-09-04 16:23:23</td>\n",
       "      <td>main_screen</td>\n",
       "    </tr>\n",
       "    <tr>\n",
       "      <th>1</th>\n",
       "      <td>3444610</td>\n",
       "      <td>046e7a872bc29e8fd38fab3cd7bb3636</td>\n",
       "      <td>000033b6509acd1c8eb0d06ebd2e1de9</td>\n",
       "      <td>2020-07-27 19:07:38</td>\n",
       "      <td>main_screen</td>\n",
       "    </tr>\n",
       "    <tr>\n",
       "      <th>2</th>\n",
       "      <td>3951305</td>\n",
       "      <td>0512ce7ff813662409ca40acbd1d16df</td>\n",
       "      <td>000033b6509acd1c8eb0d06ebd2e1de9</td>\n",
       "      <td>2020-02-22 23:18:45</td>\n",
       "      <td>main_screen</td>\n",
       "    </tr>\n",
       "  </tbody>\n",
       "</table>\n",
       "</div>"
      ],
      "text/plain": [
       "     index                        session_id  \\\n",
       "0   121700  01e2bfc05dda08dd9ea3e881e45858cc   \n",
       "1  3444610  046e7a872bc29e8fd38fab3cd7bb3636   \n",
       "2  3951305  0512ce7ff813662409ca40acbd1d16df   \n",
       "\n",
       "                         client_pin           timestamp multi_class_target  \n",
       "0  000033b6509acd1c8eb0d06ebd2e1de9 2020-09-04 16:23:23        main_screen  \n",
       "1  000033b6509acd1c8eb0d06ebd2e1de9 2020-07-27 19:07:38        main_screen  \n",
       "2  000033b6509acd1c8eb0d06ebd2e1de9 2020-02-22 23:18:45        main_screen  "
      ]
     },
     "execution_count": 4,
     "metadata": {},
     "output_type": "execute_result"
    }
   ],
   "source": [
    "train_part = pd.read_csv('alfabattle2_abattle_train_target.csv', parse_dates=['timestamp'])\n",
    "train_part.sort_values(['client_pin', 'session_id', 'timestamp'], inplace=True)\n",
    "train_part.reset_index(inplace=True)\n",
    "print(train_part.shape)\n",
    "train_part.head(3)"
   ]
  },
  {
   "cell_type": "code",
   "execution_count": 5,
   "metadata": {},
   "outputs": [
    {
     "name": "stdout",
     "output_type": "stream",
     "text": [
      "(79268, 2)\n"
     ]
    },
    {
     "data": {
      "text/html": [
       "<div>\n",
       "<style scoped>\n",
       "    .dataframe tbody tr th:only-of-type {\n",
       "        vertical-align: middle;\n",
       "    }\n",
       "\n",
       "    .dataframe tbody tr th {\n",
       "        vertical-align: top;\n",
       "    }\n",
       "\n",
       "    .dataframe thead th {\n",
       "        text-align: right;\n",
       "    }\n",
       "</style>\n",
       "<table border=\"1\" class=\"dataframe\">\n",
       "  <thead>\n",
       "    <tr style=\"text-align: right;\">\n",
       "      <th></th>\n",
       "      <th>client_pin</th>\n",
       "      <th>timestamp</th>\n",
       "    </tr>\n",
       "  </thead>\n",
       "  <tbody>\n",
       "    <tr>\n",
       "      <th>0</th>\n",
       "      <td>f0c674b2bb4dc64be607029271d706ec</td>\n",
       "      <td>2020-08-01 00:00:53</td>\n",
       "    </tr>\n",
       "    <tr>\n",
       "      <th>1</th>\n",
       "      <td>90725b54ce77576883813d87749df6bd</td>\n",
       "      <td>2020-08-01 00:02:57</td>\n",
       "    </tr>\n",
       "    <tr>\n",
       "      <th>2</th>\n",
       "      <td>eb0f82d74c7b7bd5eafbd5b5f8cb3e2a</td>\n",
       "      <td>2020-08-01 00:03:14</td>\n",
       "    </tr>\n",
       "  </tbody>\n",
       "</table>\n",
       "</div>"
      ],
      "text/plain": [
       "                         client_pin           timestamp\n",
       "0  f0c674b2bb4dc64be607029271d706ec 2020-08-01 00:00:53\n",
       "1  90725b54ce77576883813d87749df6bd 2020-08-01 00:02:57\n",
       "2  eb0f82d74c7b7bd5eafbd5b5f8cb3e2a 2020-08-01 00:03:14"
      ]
     },
     "execution_count": 5,
     "metadata": {},
     "output_type": "execute_result"
    }
   ],
   "source": [
    "test_part = pd.read_csv('alfabattle2_prediction_session_timestamp.csv', parse_dates=['timestamp'])\n",
    "print(test_part.shape)\n",
    "test_part.head(3)"
   ]
  },
  {
   "cell_type": "code",
   "execution_count": 6,
   "metadata": {},
   "outputs": [
    {
     "name": "stdout",
     "output_type": "stream",
     "text": [
      "(79268, 2)\n"
     ]
    },
    {
     "data": {
      "text/html": [
       "<div>\n",
       "<style scoped>\n",
       "    .dataframe tbody tr th:only-of-type {\n",
       "        vertical-align: middle;\n",
       "    }\n",
       "\n",
       "    .dataframe tbody tr th {\n",
       "        vertical-align: top;\n",
       "    }\n",
       "\n",
       "    .dataframe thead th {\n",
       "        text-align: right;\n",
       "    }\n",
       "</style>\n",
       "<table border=\"1\" class=\"dataframe\">\n",
       "  <thead>\n",
       "    <tr style=\"text-align: right;\">\n",
       "      <th></th>\n",
       "      <th>client_pin</th>\n",
       "      <th>prediction</th>\n",
       "    </tr>\n",
       "  </thead>\n",
       "  <tbody>\n",
       "    <tr>\n",
       "      <th>0</th>\n",
       "      <td>f0c674b2bb4dc64be607029271d706ec</td>\n",
       "      <td>credit_info</td>\n",
       "    </tr>\n",
       "    <tr>\n",
       "      <th>1</th>\n",
       "      <td>90725b54ce77576883813d87749df6bd</td>\n",
       "      <td>credit_info</td>\n",
       "    </tr>\n",
       "    <tr>\n",
       "      <th>2</th>\n",
       "      <td>eb0f82d74c7b7bd5eafbd5b5f8cb3e2a</td>\n",
       "      <td>own_transfer</td>\n",
       "    </tr>\n",
       "  </tbody>\n",
       "</table>\n",
       "</div>"
      ],
      "text/plain": [
       "                         client_pin    prediction\n",
       "0  f0c674b2bb4dc64be607029271d706ec   credit_info\n",
       "1  90725b54ce77576883813d87749df6bd   credit_info\n",
       "2  eb0f82d74c7b7bd5eafbd5b5f8cb3e2a  own_transfer"
      ]
     },
     "execution_count": 6,
     "metadata": {},
     "output_type": "execute_result"
    }
   ],
   "source": [
    "sample_sub = pd.read_csv('alfabattle2_abattle_sample_prediction.csv')\n",
    "print(sample_sub.shape)\n",
    "sample_sub.head(3)"
   ]
  },
  {
   "cell_type": "markdown",
   "metadata": {},
   "source": [
    "## EDA + feature engineering with click dataset"
   ]
  },
  {
   "cell_type": "code",
   "execution_count": 7,
   "metadata": {},
   "outputs": [],
   "source": [
    "# +--------------------+--------------------+\n",
    "# |       min_timestamp|       min_timestamp|\n",
    "# +--------------------+--------------------+\n",
    "# |2020-01-01 03:00:...|2020-10-01 01:42:...|\n",
    "# +--------------------+--------------------+"
   ]
  },
  {
   "cell_type": "code",
   "execution_count": 8,
   "metadata": {
    "scrolled": false
   },
   "outputs": [
    {
     "data": {
      "text/plain": [
       "index                  0.000000\n",
       "timestamp              0.000000\n",
       "application_id         0.000000\n",
       "client                 0.000000\n",
       "session_id             0.000000\n",
       "event_type             0.000000\n",
       "event_category         0.457352\n",
       "event_name             0.464078\n",
       "device_screen_name     0.224852\n",
       "timezone               0.000000\n",
       "device_is_webview      0.018056\n",
       "page_urlhost           0.964894\n",
       "net_connection_type    0.035106\n",
       "net_connection_tech    0.438528\n",
       "dtype: float64"
      ]
     },
     "execution_count": 8,
     "metadata": {},
     "output_type": "execute_result"
    }
   ],
   "source": [
    "click_0.isna().mean() # сходится со всей выборкой"
   ]
  },
  {
   "cell_type": "markdown",
   "metadata": {},
   "source": [
    "__Важно: в кликстримах на 1108 уникальных клиентов больше чем в таргете и сабмите__"
   ]
  },
  {
   "cell_type": "markdown",
   "metadata": {},
   "source": [
    "### timezone"
   ]
  },
  {
   "cell_type": "code",
   "execution_count": 9,
   "metadata": {
    "scrolled": true
   },
   "outputs": [],
   "source": [
    "locations = click_0.timezone.str.split(pat=\"/\", n=1, expand=True)"
   ]
  },
  {
   "cell_type": "code",
   "execution_count": 10,
   "metadata": {
    "scrolled": false
   },
   "outputs": [
    {
     "name": "stdout",
     "output_type": "stream",
     "text": [
      "['Europe', 'Asia', 'Africa', 'Australia', 'Pacific', 'Antarctica', 'America', 'Etc']\n"
     ]
    }
   ],
   "source": [
    "zone = list(locations[0].value_counts().head(8).index)\n",
    "print(zone)"
   ]
  },
  {
   "cell_type": "code",
   "execution_count": 11,
   "metadata": {
    "scrolled": true
   },
   "outputs": [
    {
     "name": "stdout",
     "output_type": "stream",
     "text": [
      "['Moscow', 'Yekaterinburg', 'Krasnoyarsk', 'Samara', 'Minsk', 'Novosibirsk', 'Omsk', 'Vladivostok', 'Irkutsk', 'Kaliningrad', 'Ho_Chi_Minh', 'Volgograd', 'Novokuznetsk', 'Karachi', 'Dubai', 'Yakutsk', 'Bangkok', 'Kolkata', 'Baku', 'Shanghai', 'Magadan', 'Almaty', 'Saratov', 'Kiev', 'Yerevan', 'Addis_Ababa', 'Tbilisi', 'Jakarta', 'Kamchatka']\n"
     ]
    }
   ],
   "source": [
    "city = list(locations[1].value_counts().iloc[:29].index)\n",
    "print(city)"
   ]
  },
  {
   "cell_type": "code",
   "execution_count": 12,
   "metadata": {},
   "outputs": [],
   "source": [
    "locations.loc[~ locations[0].isin(zone), 0] = 'Etc'\n",
    "locations.loc[~ locations[1].isin(city), 1] = 'Other'"
   ]
  },
  {
   "cell_type": "code",
   "execution_count": 13,
   "metadata": {},
   "outputs": [],
   "source": [
    "locations = pd.concat([click_0.loc[:, ['client', 'session_id']], locations], axis=1)"
   ]
  },
  {
   "cell_type": "code",
   "execution_count": 14,
   "metadata": {},
   "outputs": [
    {
     "name": "stdout",
     "output_type": "stream",
     "text": [
      "(1004032, 4)\n"
     ]
    },
    {
     "data": {
      "text/html": [
       "<div>\n",
       "<style scoped>\n",
       "    .dataframe tbody tr th:only-of-type {\n",
       "        vertical-align: middle;\n",
       "    }\n",
       "\n",
       "    .dataframe tbody tr th {\n",
       "        vertical-align: top;\n",
       "    }\n",
       "\n",
       "    .dataframe thead th {\n",
       "        text-align: right;\n",
       "    }\n",
       "</style>\n",
       "<table border=\"1\" class=\"dataframe\">\n",
       "  <thead>\n",
       "    <tr style=\"text-align: right;\">\n",
       "      <th></th>\n",
       "      <th>client</th>\n",
       "      <th>session_id</th>\n",
       "      <th>zone</th>\n",
       "      <th>city</th>\n",
       "    </tr>\n",
       "  </thead>\n",
       "  <tbody>\n",
       "    <tr>\n",
       "      <th>0</th>\n",
       "      <td>0014a49ec89e3a43098375b107f8ff2e</td>\n",
       "      <td>13c9eab5215d015776acb80675f9d70d</td>\n",
       "      <td>Europe</td>\n",
       "      <td>Moscow</td>\n",
       "    </tr>\n",
       "    <tr>\n",
       "      <th>1</th>\n",
       "      <td>0014a49ec89e3a43098375b107f8ff2e</td>\n",
       "      <td>230bbd2be4ec56aff09c57566b248e86</td>\n",
       "      <td>Europe</td>\n",
       "      <td>Moscow</td>\n",
       "    </tr>\n",
       "    <tr>\n",
       "      <th>2</th>\n",
       "      <td>0014a49ec89e3a43098375b107f8ff2e</td>\n",
       "      <td>2ee80c0a0d2a9a37c3c95c001508b198</td>\n",
       "      <td>Europe</td>\n",
       "      <td>Moscow</td>\n",
       "    </tr>\n",
       "  </tbody>\n",
       "</table>\n",
       "</div>"
      ],
      "text/plain": [
       "                             client                        session_id    zone  \\\n",
       "0  0014a49ec89e3a43098375b107f8ff2e  13c9eab5215d015776acb80675f9d70d  Europe   \n",
       "1  0014a49ec89e3a43098375b107f8ff2e  230bbd2be4ec56aff09c57566b248e86  Europe   \n",
       "2  0014a49ec89e3a43098375b107f8ff2e  2ee80c0a0d2a9a37c3c95c001508b198  Europe   \n",
       "\n",
       "     city  \n",
       "0  Moscow  \n",
       "1  Moscow  \n",
       "2  Moscow  "
      ]
     },
     "execution_count": 14,
     "metadata": {},
     "output_type": "execute_result"
    }
   ],
   "source": [
    "locations = locations.drop_duplicates(subset='session_id', keep='last').reset_index(drop=True)\n",
    "locations.rename(columns={0: 'zone', 1: 'city'}, inplace=True)\n",
    "print(locations.shape)\n",
    "locations.head(3)"
   ]
  },
  {
   "cell_type": "code",
   "execution_count": 15,
   "metadata": {},
   "outputs": [],
   "source": [
    "locations = locations.loc[locations.client.isin(train_part.client_pin.unique())]"
   ]
  },
  {
   "cell_type": "code",
   "execution_count": 16,
   "metadata": {},
   "outputs": [],
   "source": [
    "click_0.drop(columns='timezone', inplace=True)"
   ]
  },
  {
   "cell_type": "markdown",
   "metadata": {},
   "source": [
    "### application_id"
   ]
  },
  {
   "cell_type": "code",
   "execution_count": 17,
   "metadata": {
    "scrolled": false
   },
   "outputs": [],
   "source": [
    "# click_0.application_id.value_counts()"
   ]
  },
  {
   "cell_type": "code",
   "execution_count": 18,
   "metadata": {},
   "outputs": [
    {
     "data": {
      "text/plain": [
       "mobile    12030967\n",
       "retail      307704\n",
       "anketa       72290\n",
       "site         57634\n",
       "Name: application_id, dtype: int64"
      ]
     },
     "execution_count": 18,
     "metadata": {},
     "output_type": "execute_result"
    }
   ],
   "source": [
    "click_0.loc[click_0.application_id.str.find('retail') != -1, 'application_id'] = 'retail'\n",
    "click_0.loc[click_0.application_id.isin(['ncl', 'passport_metrics']), 'application_id'] = 'mobile'\n",
    "click_0.application_id.value_counts()"
   ]
  },
  {
   "cell_type": "markdown",
   "metadata": {},
   "source": [
    "### timestamp"
   ]
  },
  {
   "cell_type": "code",
   "execution_count": 20,
   "metadata": {},
   "outputs": [
    {
     "data": {
      "text/html": [
       "<div>\n",
       "<style scoped>\n",
       "    .dataframe tbody tr th:only-of-type {\n",
       "        vertical-align: middle;\n",
       "    }\n",
       "\n",
       "    .dataframe tbody tr th {\n",
       "        vertical-align: top;\n",
       "    }\n",
       "\n",
       "    .dataframe thead th {\n",
       "        text-align: right;\n",
       "    }\n",
       "</style>\n",
       "<table border=\"1\" class=\"dataframe\">\n",
       "  <thead>\n",
       "    <tr style=\"text-align: right;\">\n",
       "      <th></th>\n",
       "      <th>index</th>\n",
       "      <th>timestamp</th>\n",
       "      <th>application_id</th>\n",
       "      <th>client</th>\n",
       "      <th>session_id</th>\n",
       "      <th>event_type</th>\n",
       "      <th>event_category</th>\n",
       "      <th>event_name</th>\n",
       "      <th>device_screen_name</th>\n",
       "      <th>device_is_webview</th>\n",
       "      <th>page_urlhost</th>\n",
       "      <th>net_connection_type</th>\n",
       "      <th>net_connection_tech</th>\n",
       "    </tr>\n",
       "  </thead>\n",
       "  <tbody>\n",
       "    <tr>\n",
       "      <th>0</th>\n",
       "      <td>241683</td>\n",
       "      <td>2020-09-20 10:22:59.350</td>\n",
       "      <td>mobile</td>\n",
       "      <td>0014a49ec89e3a43098375b107f8ff2e</td>\n",
       "      <td>13c9eab5215d015776acb80675f9d70d</td>\n",
       "      <td>se</td>\n",
       "      <td>Application Lifecycle</td>\n",
       "      <td>Foreground</td>\n",
       "      <td>None</td>\n",
       "      <td>True</td>\n",
       "      <td>None</td>\n",
       "      <td>mobile</td>\n",
       "      <td>HSPA+</td>\n",
       "    </tr>\n",
       "    <tr>\n",
       "      <th>1</th>\n",
       "      <td>6872214</td>\n",
       "      <td>2020-09-20 10:23:00.508</td>\n",
       "      <td>mobile</td>\n",
       "      <td>0014a49ec89e3a43098375b107f8ff2e</td>\n",
       "      <td>13c9eab5215d015776acb80675f9d70d</td>\n",
       "      <td>sv</td>\n",
       "      <td>None</td>\n",
       "      <td>None</td>\n",
       "      <td>SignInActivity</td>\n",
       "      <td>True</td>\n",
       "      <td>None</td>\n",
       "      <td>mobile</td>\n",
       "      <td>HSPA+</td>\n",
       "    </tr>\n",
       "    <tr>\n",
       "      <th>2</th>\n",
       "      <td>6750675</td>\n",
       "      <td>2020-09-20 10:23:09.566</td>\n",
       "      <td>mobile</td>\n",
       "      <td>0014a49ec89e3a43098375b107f8ff2e</td>\n",
       "      <td>13c9eab5215d015776acb80675f9d70d</td>\n",
       "      <td>sv</td>\n",
       "      <td>None</td>\n",
       "      <td>None</td>\n",
       "      <td>MainListOnWidgetsFragment</td>\n",
       "      <td>True</td>\n",
       "      <td>None</td>\n",
       "      <td>mobile</td>\n",
       "      <td>HSPA+</td>\n",
       "    </tr>\n",
       "    <tr>\n",
       "      <th>3</th>\n",
       "      <td>159552</td>\n",
       "      <td>2020-09-20 10:23:20.355</td>\n",
       "      <td>mobile</td>\n",
       "      <td>0014a49ec89e3a43098375b107f8ff2e</td>\n",
       "      <td>13c9eab5215d015776acb80675f9d70d</td>\n",
       "      <td>se</td>\n",
       "      <td>Application Lifecycle</td>\n",
       "      <td>Background</td>\n",
       "      <td>None</td>\n",
       "      <td>True</td>\n",
       "      <td>None</td>\n",
       "      <td>mobile</td>\n",
       "      <td>HSPA+</td>\n",
       "    </tr>\n",
       "    <tr>\n",
       "      <th>4</th>\n",
       "      <td>6750677</td>\n",
       "      <td>2020-09-20 10:23:21.035</td>\n",
       "      <td>mobile</td>\n",
       "      <td>0014a49ec89e3a43098375b107f8ff2e</td>\n",
       "      <td>13c9eab5215d015776acb80675f9d70d</td>\n",
       "      <td>sv</td>\n",
       "      <td>None</td>\n",
       "      <td>None</td>\n",
       "      <td>MainListOnWidgetsFragment</td>\n",
       "      <td>True</td>\n",
       "      <td>None</td>\n",
       "      <td>mobile</td>\n",
       "      <td>HSPA+</td>\n",
       "    </tr>\n",
       "  </tbody>\n",
       "</table>\n",
       "</div>"
      ],
      "text/plain": [
       "     index               timestamp application_id  \\\n",
       "0   241683 2020-09-20 10:22:59.350         mobile   \n",
       "1  6872214 2020-09-20 10:23:00.508         mobile   \n",
       "2  6750675 2020-09-20 10:23:09.566         mobile   \n",
       "3   159552 2020-09-20 10:23:20.355         mobile   \n",
       "4  6750677 2020-09-20 10:23:21.035         mobile   \n",
       "\n",
       "                             client                        session_id  \\\n",
       "0  0014a49ec89e3a43098375b107f8ff2e  13c9eab5215d015776acb80675f9d70d   \n",
       "1  0014a49ec89e3a43098375b107f8ff2e  13c9eab5215d015776acb80675f9d70d   \n",
       "2  0014a49ec89e3a43098375b107f8ff2e  13c9eab5215d015776acb80675f9d70d   \n",
       "3  0014a49ec89e3a43098375b107f8ff2e  13c9eab5215d015776acb80675f9d70d   \n",
       "4  0014a49ec89e3a43098375b107f8ff2e  13c9eab5215d015776acb80675f9d70d   \n",
       "\n",
       "  event_type         event_category  event_name         device_screen_name  \\\n",
       "0         se  Application Lifecycle  Foreground                       None   \n",
       "1         sv                   None        None             SignInActivity   \n",
       "2         sv                   None        None  MainListOnWidgetsFragment   \n",
       "3         se  Application Lifecycle  Background                       None   \n",
       "4         sv                   None        None  MainListOnWidgetsFragment   \n",
       "\n",
       "  device_is_webview page_urlhost net_connection_type net_connection_tech  \n",
       "0              True         None              mobile               HSPA+  \n",
       "1              True         None              mobile               HSPA+  \n",
       "2              True         None              mobile               HSPA+  \n",
       "3              True         None              mobile               HSPA+  \n",
       "4              True         None              mobile               HSPA+  "
      ]
     },
     "execution_count": 20,
     "metadata": {},
     "output_type": "execute_result"
    }
   ],
   "source": [
    "click_0.head()"
   ]
  },
  {
   "cell_type": "code",
   "execution_count": 30,
   "metadata": {},
   "outputs": [
    {
     "name": "stdout",
     "output_type": "stream",
     "text": [
      "CPU times: user 30.5 ms, sys: 8.41 ms, total: 38.9 ms\n",
      "Wall time: 37.8 ms\n"
     ]
    }
   ],
   "source": [
    "%%time\n",
    "durations = click_0.groupby('session_id').apply(lambda group: group.timestamp.iloc[-1] - group.timestamp.iloc[0]\n",
    "                                               ).reset_index().rename(columns={0: 'duration'})\n",
    "durations.loc[:, 'duration'] = durations.duration.astype('timedelta64[ms]')\n",
    "click_0.drop(columns='timestamp', inplace=True)"
   ]
  },
  {
   "cell_type": "markdown",
   "metadata": {},
   "source": [
    "### event_type"
   ]
  },
  {
   "cell_type": "code",
   "execution_count": 153,
   "metadata": {},
   "outputs": [],
   "source": [
    "# se - structured event\n",
    "# sv - screen view\n",
    "# pv - page view\n",
    "# ue - user event\n",
    "# err - error\n",
    "# click_0.event_type.value_counts()"
   ]
  },
  {
   "cell_type": "code",
   "execution_count": 37,
   "metadata": {},
   "outputs": [
    {
     "data": {
      "text/plain": [
       "14.546694166666667"
      ]
     },
     "execution_count": 37,
     "metadata": {},
     "output_type": "execute_result"
    }
   ],
   "source": [
    "(click_0.shape[0] / 100000) * 7 / 60"
   ]
  },
  {
   "cell_type": "code",
   "execution_count": 38,
   "metadata": {},
   "outputs": [
    {
     "name": "stdout",
     "output_type": "stream",
     "text": [
      "CPU times: user 6.98 s, sys: 119 ms, total: 7.1 s\n",
      "Wall time: 7.14 s\n"
     ]
    }
   ],
   "source": [
    "%%time\n",
    "event_types = click_0.groupby('session_id').apply(lambda group: group.event_type.value_counts(normalize=True)\n",
    "                                                 ).reset_index().pivot(index=\"session_id\", columns=\"level_1\", \n",
    "                                                                       values=\"event_type\").reset_index().fillna(0)\n",
    "# event_types.drop(columns='err', inplace=True)\n",
    "# click_0.drop(columns='event_type', inplace=True)"
   ]
  },
  {
   "cell_type": "code",
   "execution_count": null,
   "metadata": {},
   "outputs": [],
   "source": []
  },
  {
   "cell_type": "markdown",
   "metadata": {},
   "source": [
    "### event_name"
   ]
  },
  {
   "cell_type": "code",
   "execution_count": 259,
   "metadata": {},
   "outputs": [],
   "source": [
    "# click_0.event_name.value_counts().head(20)\n",
    "click_0.drop(columns='event_name', inplace=True)"
   ]
  },
  {
   "cell_type": "markdown",
   "metadata": {},
   "source": [
    "### event_category"
   ]
  },
  {
   "cell_type": "code",
   "execution_count": 253,
   "metadata": {
    "scrolled": true
   },
   "outputs": [
    {
     "data": {
      "text/plain": [
       "NaN                      0.527169\n",
       "Application Lifecycle    0.169918\n",
       "SingleStatement          0.056847\n",
       "Bottom Navigation        0.043737\n",
       "Main Screen              0.042806\n",
       "Widget Dashboard         0.031785\n",
       "Card To Card Transfer    0.016367\n",
       "Push                     0.015551\n",
       "ResultScreen             0.014331\n",
       "All Payments             0.013428\n",
       "Bank_Offer               0.011321\n",
       "Chat                     0.010881\n",
       "Investments              0.009163\n",
       "Recharge                 0.007399\n",
       "Credit Info              0.007076\n",
       "ClientPhoneTransfer      0.006905\n",
       "Operations               0.005900\n",
       "user                     0.005327\n",
       "ReverseCashBack          0.004092\n",
       "Name: event_category, dtype: float64"
      ]
     },
     "execution_count": 253,
     "metadata": {},
     "output_type": "execute_result"
    }
   ],
   "source": [
    "cats = list(click_0.event_category.value_counts().head(18).index)\n",
    "click_0.loc[~ click_0.event_category.isin(cats), 'event_category'] = np.nan\n",
    "click_0.event_category.value_counts(normalize=True, dropna=False)"
   ]
  },
  {
   "cell_type": "code",
   "execution_count": 260,
   "metadata": {},
   "outputs": [],
   "source": [
    "event_categories = click_0.groupby('session_id').apply(lambda group: group.event_category.value_counts(normalize=True)\n",
    "                                                      ).reset_index().pivot(index=\"session_id\", columns=\"level_1\", \n",
    "                                                                       values=\"event_category\").reset_index().fillna(0)\n",
    "click_0.drop(columns='event_category', inplace=True)"
   ]
  },
  {
   "cell_type": "markdown",
   "metadata": {},
   "source": [
    "### page_urlhost"
   ]
  },
  {
   "cell_type": "code",
   "execution_count": 176,
   "metadata": {},
   "outputs": [
    {
     "data": {
      "text/plain": [
       "online.alfabank.ru          201946\n",
       "click.alfabank.ru           105841\n",
       "anketa.alfabank.ru           66639\n",
       "alfabank.ru                  56098\n",
       "ipoteka.alfabank.ru           5678\n",
       "travel.alfabank.ru            1472\n",
       "family.alfabank.ru              21\n",
       "partner.alfabank.ru             16\n",
       "investments.alfabank.ru         12\n",
       "private.auth.alfabank.ru         2\n",
       "Name: page_urlhost, dtype: int64"
      ]
     },
     "execution_count": 176,
     "metadata": {},
     "output_type": "execute_result"
    }
   ],
   "source": [
    "click_0.page_urlhost.value_counts()"
   ]
  },
  {
   "cell_type": "code",
   "execution_count": 256,
   "metadata": {},
   "outputs": [],
   "source": [
    "click_0.loc[:, 'online_alfa_ru'] = False\n",
    "click_0.loc[:, 'click_alfa_ru'] = False\n",
    "click_0.loc[:, 'anketa_alfa_ru'] = False\n",
    "click_0.loc[:, 'alfa_ru'] = False\n",
    "\n",
    "click_0.loc[click_0.page_urlhost == 'online.alfabank.ru', 'online_alfa_ru'] = True\n",
    "click_0.loc[click_0.page_urlhost == 'click.alfabank.ru', 'click_alfa_ru'] = True\n",
    "click_0.loc[click_0.page_urlhost == 'anketa.alfabank.ru', 'anketa_alfa_ru'] = True\n",
    "click_0.loc[click_0.page_urlhost == 'alfabank.ru', 'alfa_ru'] = True\n",
    "\n",
    "click_0.drop(columns='page_urlhost', inplace=True)"
   ]
  },
  {
   "cell_type": "markdown",
   "metadata": {},
   "source": [
    "### device_screen_name"
   ]
  },
  {
   "cell_type": "code",
   "execution_count": 275,
   "metadata": {},
   "outputs": [
    {
     "name": "stdout",
     "output_type": "stream",
     "text": [
      "['SignInActivity', 'MainListFragment', 'Main list', 'Single Statement', 'MainListOnWidgetsFragment', 'AllPaymentsFragmentNoTemplates', 'StatementFragment', 'Accounts And Cards Widget', 'Final Payment Simple', 'All Payments', 'Chat', 'Card To Card Transfer', 'Widget Dashboard', 'NotificationsFragment', 'OffersFragment', 'Statements screen', 'AccountDetailActivity', 'Client Phone Transfer', 'Credit Info', 'CreditInfoActivity', 'All payments screen', 'FinalPaymentSimpleFragment', 'CardToCardTransferFragment', 'Recharge', 'WebFeatureFragment']\n"
     ]
    }
   ],
   "source": [
    "nams = list(click_0.device_screen_name.value_counts().head(25).index)\n",
    "print(nams)"
   ]
  },
  {
   "cell_type": "code",
   "execution_count": 276,
   "metadata": {
    "scrolled": false
   },
   "outputs": [
    {
     "data": {
      "text/plain": [
       "NaN                               0.402120\n",
       "SignInActivity                    0.098318\n",
       "MainListFragment                  0.096989\n",
       "Main list                         0.080121\n",
       "Single Statement                  0.056861\n",
       "MainListOnWidgetsFragment         0.053544\n",
       "AllPaymentsFragmentNoTemplates    0.025244\n",
       "StatementFragment                 0.022345\n",
       "Accounts And Cards Widget         0.018447\n",
       "Final Payment Simple              0.013928\n",
       "All Payments                      0.013241\n",
       "Chat                              0.010885\n",
       "Card To Card Transfer             0.010681\n",
       "Widget Dashboard                  0.010666\n",
       "NotificationsFragment             0.010582\n",
       "OffersFragment                    0.010581\n",
       "Statements screen                 0.007954\n",
       "AccountDetailActivity             0.007447\n",
       "Client Phone Transfer             0.007198\n",
       "Credit Info                       0.007076\n",
       "CreditInfoActivity                0.007029\n",
       "All payments screen               0.006479\n",
       "FinalPaymentSimpleFragment        0.005789\n",
       "CardToCardTransferFragment        0.005700\n",
       "Recharge                          0.005595\n",
       "WebFeatureFragment                0.005181\n",
       "Name: device_screen_name, dtype: float64"
      ]
     },
     "execution_count": 276,
     "metadata": {},
     "output_type": "execute_result"
    }
   ],
   "source": [
    "click_0.loc[~ click_0.device_screen_name.isin(nams), 'device_screen_name'] = np.nan\n",
    "click_0.device_screen_name.value_counts(normalize=True, dropna=False)"
   ]
  },
  {
   "cell_type": "markdown",
   "metadata": {},
   "source": [
    "### net_connection_type"
   ]
  },
  {
   "cell_type": "code",
   "execution_count": 288,
   "metadata": {},
   "outputs": [
    {
     "data": {
      "text/plain": [
       "session_id\n",
       "000011b33bb3d581fbbbcdadccb1d18e    1\n",
       "a68a8af76e34e358fd01c64b44e8f1f7    1\n",
       "a68a9dab8709c697b259f126ed032b0c    1\n",
       "a68aa1f8c23ddd52f9429e7d284c8221    1\n",
       "a68ac3de96914a59012e3431a7988a64    1\n",
       "                                   ..\n",
       "5ed5d093cd7d6a0d452bf8146d17c6b8    3\n",
       "f3b73f5650c57a6b361453519adff7e1    3\n",
       "dcf5b484fb4f67f652bd73f7259312aa    3\n",
       "a196c34aaa327fb358bd4998fef75e7b    3\n",
       "de5e17e47d94bdd0472394c60004ca42    3\n",
       "Name: net_connection_type, Length: 1004032, dtype: int64"
      ]
     },
     "execution_count": 288,
     "metadata": {},
     "output_type": "execute_result"
    }
   ],
   "source": [
    "click_0.groupby('session_id')['net_connection_type'].nunique().sort_values()"
   ]
  },
  {
   "cell_type": "code",
   "execution_count": 290,
   "metadata": {},
   "outputs": [],
   "source": [
    "click_0.fillna('offline', inplace=True)\n",
    "\n",
    "net_types = click_0.loc[:, ['session_id', 'net_connection_type']].drop_duplicates(subset='session_id', keep='last')\n",
    "click_0.drop(columns='net_connection_type', inplace=True)"
   ]
  },
  {
   "cell_type": "markdown",
   "metadata": {},
   "source": [
    "### device_is_webview"
   ]
  },
  {
   "cell_type": "code",
   "execution_count": 266,
   "metadata": {},
   "outputs": [],
   "source": [
    "click_0.device_is_webview.fillna(False, inplace=True)"
   ]
  },
  {
   "cell_type": "code",
   "execution_count": 40,
   "metadata": {},
   "outputs": [],
   "source": [
    "%%time\n",
    "click_0.iloc[:100000].groupby('session_id').apply(lambda group: group.loc[:, 'device_is_webview':'alfa_ru'].any(axis=0)\n",
    "                                   ).reset_index()"
   ]
  },
  {
   "cell_type": "markdown",
   "metadata": {},
   "source": [
    "### net_connection_tech"
   ]
  },
  {
   "cell_type": "code",
   "execution_count": 281,
   "metadata": {},
   "outputs": [],
   "source": [
    "click_0.drop(columns='net_connection_tech', inplace=True)"
   ]
  },
  {
   "cell_type": "code",
   "execution_count": 299,
   "metadata": {},
   "outputs": [
    {
     "name": "stdout",
     "output_type": "stream",
     "text": [
      "<class 'pandas.core.frame.DataFrame'>\n",
      "Int64Index: 12468595 entries, 241683 to 4212658\n",
      "Data columns (total 9 columns):\n",
      " #   Column              Dtype \n",
      "---  ------              ----- \n",
      " 0   application_id      object\n",
      " 1   client              object\n",
      " 2   session_id          object\n",
      " 3   device_screen_name  object\n",
      " 4   device_is_webview   bool  \n",
      " 5   online_alfa_ru      bool  \n",
      " 6   click_alfa_ru       bool  \n",
      " 7   anketa_alfa_ru      bool  \n",
      " 8   alfa_ru             bool  \n",
      "dtypes: bool(5), object(4)\n",
      "memory usage: 855.1+ MB\n"
     ]
    }
   ],
   "source": [
    "click_0.info()"
   ]
  },
  {
   "cell_type": "markdown",
   "metadata": {},
   "source": [
    "### Feature engineering"
   ]
  },
  {
   "cell_type": "code",
   "execution_count": 33,
   "metadata": {},
   "outputs": [
    {
     "data": {
      "text/plain": [
       "array(['main_screen', 'invest', 'statement', 'phone_money_transfer',\n",
       "       'own_transfer', 'credit_info', 'chat', 'card2card_transfer',\n",
       "       'mobile_recharge', 'card_recharge'], dtype=object)"
      ]
     },
     "execution_count": 33,
     "metadata": {},
     "output_type": "execute_result"
    }
   ],
   "source": [
    "train_part.multi_class_target.unique()"
   ]
  },
  {
   "cell_type": "code",
   "execution_count": 40,
   "metadata": {},
   "outputs": [
    {
     "name": "stdout",
     "output_type": "stream",
     "text": [
      "(5065350, 3)\n"
     ]
    },
    {
     "data": {
      "text/html": [
       "<div>\n",
       "<style scoped>\n",
       "    .dataframe tbody tr th:only-of-type {\n",
       "        vertical-align: middle;\n",
       "    }\n",
       "\n",
       "    .dataframe tbody tr th {\n",
       "        vertical-align: top;\n",
       "    }\n",
       "\n",
       "    .dataframe thead th {\n",
       "        text-align: right;\n",
       "    }\n",
       "</style>\n",
       "<table border=\"1\" class=\"dataframe\">\n",
       "  <thead>\n",
       "    <tr style=\"text-align: right;\">\n",
       "      <th></th>\n",
       "      <th>client_pin</th>\n",
       "      <th>timestamp</th>\n",
       "      <th>multi_class_target</th>\n",
       "    </tr>\n",
       "  </thead>\n",
       "  <tbody>\n",
       "    <tr>\n",
       "      <th>0</th>\n",
       "      <td>7cf9221322a0e2fdefb1b998b8f2ab29</td>\n",
       "      <td>2020-06-15 14:01:12</td>\n",
       "      <td>main_screen</td>\n",
       "    </tr>\n",
       "    <tr>\n",
       "      <th>1</th>\n",
       "      <td>5f16c0ab27a806fd08db3122921adf3a</td>\n",
       "      <td>2020-03-21 12:59:34</td>\n",
       "      <td>invest</td>\n",
       "    </tr>\n",
       "    <tr>\n",
       "      <th>2</th>\n",
       "      <td>ec868fc2b388293cf10e18ee9518d72f</td>\n",
       "      <td>2020-01-24 18:18:55</td>\n",
       "      <td>statement</td>\n",
       "    </tr>\n",
       "  </tbody>\n",
       "</table>\n",
       "</div>"
      ],
      "text/plain": [
       "                         client_pin           timestamp multi_class_target\n",
       "0  7cf9221322a0e2fdefb1b998b8f2ab29 2020-06-15 14:01:12        main_screen\n",
       "1  5f16c0ab27a806fd08db3122921adf3a 2020-03-21 12:59:34             invest\n",
       "2  ec868fc2b388293cf10e18ee9518d72f 2020-01-24 18:18:55          statement"
      ]
     },
     "execution_count": 40,
     "metadata": {},
     "output_type": "execute_result"
    }
   ],
   "source": [
    "print(train_part.shape)\n",
    "train_part.head(3)"
   ]
  },
  {
   "cell_type": "code",
   "execution_count": 35,
   "metadata": {},
   "outputs": [],
   "source": [
    "train_part.drop(columns=['session_id'], inplace=True)"
   ]
  },
  {
   "cell_type": "code",
   "execution_count": 48,
   "metadata": {},
   "outputs": [
    {
     "name": "stdout",
     "output_type": "stream",
     "text": [
      "(79268, 2)\n"
     ]
    },
    {
     "data": {
      "text/html": [
       "<div>\n",
       "<style scoped>\n",
       "    .dataframe tbody tr th:only-of-type {\n",
       "        vertical-align: middle;\n",
       "    }\n",
       "\n",
       "    .dataframe tbody tr th {\n",
       "        vertical-align: top;\n",
       "    }\n",
       "\n",
       "    .dataframe thead th {\n",
       "        text-align: right;\n",
       "    }\n",
       "</style>\n",
       "<table border=\"1\" class=\"dataframe\">\n",
       "  <thead>\n",
       "    <tr style=\"text-align: right;\">\n",
       "      <th></th>\n",
       "      <th>client_pin</th>\n",
       "      <th>timestamp</th>\n",
       "    </tr>\n",
       "  </thead>\n",
       "  <tbody>\n",
       "    <tr>\n",
       "      <th>0</th>\n",
       "      <td>f0c674b2bb4dc64be607029271d706ec</td>\n",
       "      <td>2020-08-01 00:00:53</td>\n",
       "    </tr>\n",
       "    <tr>\n",
       "      <th>1</th>\n",
       "      <td>90725b54ce77576883813d87749df6bd</td>\n",
       "      <td>2020-08-01 00:02:57</td>\n",
       "    </tr>\n",
       "    <tr>\n",
       "      <th>2</th>\n",
       "      <td>eb0f82d74c7b7bd5eafbd5b5f8cb3e2a</td>\n",
       "      <td>2020-08-01 00:03:14</td>\n",
       "    </tr>\n",
       "  </tbody>\n",
       "</table>\n",
       "</div>"
      ],
      "text/plain": [
       "                         client_pin           timestamp\n",
       "0  f0c674b2bb4dc64be607029271d706ec 2020-08-01 00:00:53\n",
       "1  90725b54ce77576883813d87749df6bd 2020-08-01 00:02:57\n",
       "2  eb0f82d74c7b7bd5eafbd5b5f8cb3e2a 2020-08-01 00:03:14"
      ]
     },
     "execution_count": 48,
     "metadata": {},
     "output_type": "execute_result"
    }
   ],
   "source": [
    "print(test_part.shape)\n",
    "test_part.head(3)"
   ]
  },
  {
   "cell_type": "code",
   "execution_count": 50,
   "metadata": {},
   "outputs": [],
   "source": [
    "train_part.sort_values(['client_pin', 'timestamp'], ascending=[True, True], inplace=True)"
   ]
  },
  {
   "cell_type": "code",
   "execution_count": 54,
   "metadata": {},
   "outputs": [
    {
     "data": {
      "text/html": [
       "<div>\n",
       "<style scoped>\n",
       "    .dataframe tbody tr th:only-of-type {\n",
       "        vertical-align: middle;\n",
       "    }\n",
       "\n",
       "    .dataframe tbody tr th {\n",
       "        vertical-align: top;\n",
       "    }\n",
       "\n",
       "    .dataframe thead th {\n",
       "        text-align: right;\n",
       "    }\n",
       "</style>\n",
       "<table border=\"1\" class=\"dataframe\">\n",
       "  <thead>\n",
       "    <tr style=\"text-align: right;\">\n",
       "      <th></th>\n",
       "      <th>client_pin</th>\n",
       "      <th>timestamp</th>\n",
       "      <th>multi_class_target</th>\n",
       "    </tr>\n",
       "  </thead>\n",
       "  <tbody>\n",
       "    <tr>\n",
       "      <th>0</th>\n",
       "      <td>f0c674b2bb4dc64be607029271d706ec</td>\n",
       "      <td>2020-08-01 00:00:53</td>\n",
       "      <td>need_to_predict</td>\n",
       "    </tr>\n",
       "    <tr>\n",
       "      <th>1</th>\n",
       "      <td>90725b54ce77576883813d87749df6bd</td>\n",
       "      <td>2020-08-01 00:02:57</td>\n",
       "      <td>need_to_predict</td>\n",
       "    </tr>\n",
       "    <tr>\n",
       "      <th>2</th>\n",
       "      <td>eb0f82d74c7b7bd5eafbd5b5f8cb3e2a</td>\n",
       "      <td>2020-08-01 00:03:14</td>\n",
       "      <td>need_to_predict</td>\n",
       "    </tr>\n",
       "    <tr>\n",
       "      <th>3</th>\n",
       "      <td>831bf4c0ecccc55e536b8cfb9153d672</td>\n",
       "      <td>2020-08-01 00:04:44</td>\n",
       "      <td>need_to_predict</td>\n",
       "    </tr>\n",
       "    <tr>\n",
       "      <th>4</th>\n",
       "      <td>3f1a5a1c492ce877af833113e59c5797</td>\n",
       "      <td>2020-08-01 00:06:40</td>\n",
       "      <td>need_to_predict</td>\n",
       "    </tr>\n",
       "  </tbody>\n",
       "</table>\n",
       "</div>"
      ],
      "text/plain": [
       "                         client_pin           timestamp multi_class_target\n",
       "0  f0c674b2bb4dc64be607029271d706ec 2020-08-01 00:00:53    need_to_predict\n",
       "1  90725b54ce77576883813d87749df6bd 2020-08-01 00:02:57    need_to_predict\n",
       "2  eb0f82d74c7b7bd5eafbd5b5f8cb3e2a 2020-08-01 00:03:14    need_to_predict\n",
       "3  831bf4c0ecccc55e536b8cfb9153d672 2020-08-01 00:04:44    need_to_predict\n",
       "4  3f1a5a1c492ce877af833113e59c5797 2020-08-01 00:06:40    need_to_predict"
      ]
     },
     "execution_count": 54,
     "metadata": {},
     "output_type": "execute_result"
    }
   ],
   "source": [
    "test_part['multi_class_target'] = 'need_to_predict'\n",
    "test_part.head()"
   ]
  },
  {
   "cell_type": "code",
   "execution_count": 55,
   "metadata": {},
   "outputs": [
    {
     "data": {
      "text/html": [
       "<div>\n",
       "<style scoped>\n",
       "    .dataframe tbody tr th:only-of-type {\n",
       "        vertical-align: middle;\n",
       "    }\n",
       "\n",
       "    .dataframe tbody tr th {\n",
       "        vertical-align: top;\n",
       "    }\n",
       "\n",
       "    .dataframe thead th {\n",
       "        text-align: right;\n",
       "    }\n",
       "</style>\n",
       "<table border=\"1\" class=\"dataframe\">\n",
       "  <thead>\n",
       "    <tr style=\"text-align: right;\">\n",
       "      <th></th>\n",
       "      <th>client_pin</th>\n",
       "      <th>timestamp</th>\n",
       "      <th>multi_class_target</th>\n",
       "    </tr>\n",
       "  </thead>\n",
       "  <tbody>\n",
       "    <tr>\n",
       "      <th>68402</th>\n",
       "      <td>000033b6509acd1c8eb0d06ebd2e1de9</td>\n",
       "      <td>2020-02-02 22:31:04</td>\n",
       "      <td>statement</td>\n",
       "    </tr>\n",
       "    <tr>\n",
       "      <th>4383589</th>\n",
       "      <td>000033b6509acd1c8eb0d06ebd2e1de9</td>\n",
       "      <td>2020-02-19 18:37:26</td>\n",
       "      <td>main_screen</td>\n",
       "    </tr>\n",
       "    <tr>\n",
       "      <th>3951305</th>\n",
       "      <td>000033b6509acd1c8eb0d06ebd2e1de9</td>\n",
       "      <td>2020-02-22 23:18:45</td>\n",
       "      <td>main_screen</td>\n",
       "    </tr>\n",
       "    <tr>\n",
       "      <th>3604467</th>\n",
       "      <td>000033b6509acd1c8eb0d06ebd2e1de9</td>\n",
       "      <td>2020-02-27 17:29:57</td>\n",
       "      <td>main_screen</td>\n",
       "    </tr>\n",
       "    <tr>\n",
       "      <th>1579222</th>\n",
       "      <td>000033b6509acd1c8eb0d06ebd2e1de9</td>\n",
       "      <td>2020-03-04 22:39:45</td>\n",
       "      <td>main_screen</td>\n",
       "    </tr>\n",
       "    <tr>\n",
       "      <th>...</th>\n",
       "      <td>...</td>\n",
       "      <td>...</td>\n",
       "      <td>...</td>\n",
       "    </tr>\n",
       "    <tr>\n",
       "      <th>79263</th>\n",
       "      <td>4e46e206d38dcb7af41d9ced20d50ac2</td>\n",
       "      <td>2020-09-30 23:41:47</td>\n",
       "      <td>need_to_predict</td>\n",
       "    </tr>\n",
       "    <tr>\n",
       "      <th>79264</th>\n",
       "      <td>5b59bf5bd1e07775b1bc95dd7151d2cd</td>\n",
       "      <td>2020-09-30 23:43:25</td>\n",
       "      <td>need_to_predict</td>\n",
       "    </tr>\n",
       "    <tr>\n",
       "      <th>79265</th>\n",
       "      <td>94bcc852dd7f806f6c733056d1b0be7b</td>\n",
       "      <td>2020-09-30 23:50:37</td>\n",
       "      <td>need_to_predict</td>\n",
       "    </tr>\n",
       "    <tr>\n",
       "      <th>79266</th>\n",
       "      <td>2061f779928217eea2878fd3b605fafd</td>\n",
       "      <td>2020-09-30 23:53:03</td>\n",
       "      <td>need_to_predict</td>\n",
       "    </tr>\n",
       "    <tr>\n",
       "      <th>79267</th>\n",
       "      <td>e2f0cede9e3bc3d6ed7c77c4e08af136</td>\n",
       "      <td>2020-09-30 23:58:32</td>\n",
       "      <td>need_to_predict</td>\n",
       "    </tr>\n",
       "  </tbody>\n",
       "</table>\n",
       "<p>5144618 rows × 3 columns</p>\n",
       "</div>"
      ],
      "text/plain": [
       "                               client_pin           timestamp  \\\n",
       "68402    000033b6509acd1c8eb0d06ebd2e1de9 2020-02-02 22:31:04   \n",
       "4383589  000033b6509acd1c8eb0d06ebd2e1de9 2020-02-19 18:37:26   \n",
       "3951305  000033b6509acd1c8eb0d06ebd2e1de9 2020-02-22 23:18:45   \n",
       "3604467  000033b6509acd1c8eb0d06ebd2e1de9 2020-02-27 17:29:57   \n",
       "1579222  000033b6509acd1c8eb0d06ebd2e1de9 2020-03-04 22:39:45   \n",
       "...                                   ...                 ...   \n",
       "79263    4e46e206d38dcb7af41d9ced20d50ac2 2020-09-30 23:41:47   \n",
       "79264    5b59bf5bd1e07775b1bc95dd7151d2cd 2020-09-30 23:43:25   \n",
       "79265    94bcc852dd7f806f6c733056d1b0be7b 2020-09-30 23:50:37   \n",
       "79266    2061f779928217eea2878fd3b605fafd 2020-09-30 23:53:03   \n",
       "79267    e2f0cede9e3bc3d6ed7c77c4e08af136 2020-09-30 23:58:32   \n",
       "\n",
       "        multi_class_target  \n",
       "68402            statement  \n",
       "4383589        main_screen  \n",
       "3951305        main_screen  \n",
       "3604467        main_screen  \n",
       "1579222        main_screen  \n",
       "...                    ...  \n",
       "79263      need_to_predict  \n",
       "79264      need_to_predict  \n",
       "79265      need_to_predict  \n",
       "79266      need_to_predict  \n",
       "79267      need_to_predict  \n",
       "\n",
       "[5144618 rows x 3 columns]"
      ]
     },
     "execution_count": 55,
     "metadata": {},
     "output_type": "execute_result"
    }
   ],
   "source": [
    "pd.concat([train_part, test_part], axis=0)"
   ]
  },
  {
   "cell_type": "code",
   "execution_count": 53,
   "metadata": {},
   "outputs": [
    {
     "data": {
      "text/plain": [
       "True"
      ]
     },
     "execution_count": 53,
     "metadata": {},
     "output_type": "execute_result"
    }
   ],
   "source": [
    "train_part.iloc[1, 1] < train_part.iloc[2, 1]"
   ]
  }
 ],
 "metadata": {
  "kernelspec": {
   "display_name": "Python 3",
   "language": "python",
   "name": "python3"
  },
  "language_info": {
   "codemirror_mode": {
    "name": "ipython",
    "version": 3
   },
   "file_extension": ".py",
   "mimetype": "text/x-python",
   "name": "python",
   "nbconvert_exporter": "python",
   "pygments_lexer": "ipython3",
   "version": "3.8.1"
  }
 },
 "nbformat": 4,
 "nbformat_minor": 2
}
