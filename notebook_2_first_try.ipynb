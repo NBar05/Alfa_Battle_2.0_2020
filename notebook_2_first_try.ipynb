{
 "cells": [
  {
   "cell_type": "code",
   "execution_count": 88,
   "metadata": {},
   "outputs": [],
   "source": [
    "import os \n",
    "import sys\n",
    "import time\n",
    "import datetime\n",
    "import dateutils\n",
    "import collections\n",
    "import itertools\n",
    "from tqdm.notebook import tqdm, trange\n",
    "\n",
    "import numpy as np\n",
    "import pandas as pd\n",
    "import scipy as sci\n",
    "from matplotlib_venn import venn2, venn2_circles, venn3, venn3_circles\n",
    "import matplotlib\n",
    "import matplotlib.pyplot as plt\n",
    "import seaborn as sns\n",
    "%matplotlib inline"
   ]
  },
  {
   "cell_type": "code",
   "execution_count": 89,
   "metadata": {},
   "outputs": [],
   "source": [
    "matplotlib.rcParams['figure.figsize'] = (10, 7)\n",
    "sns.set_style('whitegrid')"
   ]
  },
  {
   "cell_type": "code",
   "execution_count": 90,
   "metadata": {
    "scrolled": true
   },
   "outputs": [
    {
     "name": "stdout",
     "output_type": "stream",
     "text": [
      "(5065350, 3)\n"
     ]
    },
    {
     "data": {
      "text/html": [
       "<div>\n",
       "<style scoped>\n",
       "    .dataframe tbody tr th:only-of-type {\n",
       "        vertical-align: middle;\n",
       "    }\n",
       "\n",
       "    .dataframe tbody tr th {\n",
       "        vertical-align: top;\n",
       "    }\n",
       "\n",
       "    .dataframe thead th {\n",
       "        text-align: right;\n",
       "    }\n",
       "</style>\n",
       "<table border=\"1\" class=\"dataframe\">\n",
       "  <thead>\n",
       "    <tr style=\"text-align: right;\">\n",
       "      <th></th>\n",
       "      <th>client_pin</th>\n",
       "      <th>timestamp</th>\n",
       "      <th>multi_class_target</th>\n",
       "    </tr>\n",
       "  </thead>\n",
       "  <tbody>\n",
       "    <tr>\n",
       "      <th>0</th>\n",
       "      <td>7cf9221322a0e2fdefb1b998b8f2ab29</td>\n",
       "      <td>2020-06-15 14:01:12</td>\n",
       "      <td>main_screen</td>\n",
       "    </tr>\n",
       "    <tr>\n",
       "      <th>1</th>\n",
       "      <td>5f16c0ab27a806fd08db3122921adf3a</td>\n",
       "      <td>2020-03-21 12:59:34</td>\n",
       "      <td>invest</td>\n",
       "    </tr>\n",
       "    <tr>\n",
       "      <th>2</th>\n",
       "      <td>ec868fc2b388293cf10e18ee9518d72f</td>\n",
       "      <td>2020-01-24 18:18:55</td>\n",
       "      <td>statement</td>\n",
       "    </tr>\n",
       "  </tbody>\n",
       "</table>\n",
       "</div>"
      ],
      "text/plain": [
       "                         client_pin           timestamp multi_class_target\n",
       "0  7cf9221322a0e2fdefb1b998b8f2ab29 2020-06-15 14:01:12        main_screen\n",
       "1  5f16c0ab27a806fd08db3122921adf3a 2020-03-21 12:59:34             invest\n",
       "2  ec868fc2b388293cf10e18ee9518d72f 2020-01-24 18:18:55          statement"
      ]
     },
     "execution_count": 90,
     "metadata": {},
     "output_type": "execute_result"
    }
   ],
   "source": [
    "train_part = pd.read_csv('alfabattle2_abattle_train_target.csv', parse_dates=['timestamp'])\n",
    "train_part.drop(columns=['session_id'], inplace=True)\n",
    "print(train_part.shape)\n",
    "train_part.head(3)"
   ]
  },
  {
   "cell_type": "code",
   "execution_count": 91,
   "metadata": {},
   "outputs": [
    {
     "name": "stdout",
     "output_type": "stream",
     "text": [
      "(79268, 3)\n"
     ]
    },
    {
     "data": {
      "text/html": [
       "<div>\n",
       "<style scoped>\n",
       "    .dataframe tbody tr th:only-of-type {\n",
       "        vertical-align: middle;\n",
       "    }\n",
       "\n",
       "    .dataframe tbody tr th {\n",
       "        vertical-align: top;\n",
       "    }\n",
       "\n",
       "    .dataframe thead th {\n",
       "        text-align: right;\n",
       "    }\n",
       "</style>\n",
       "<table border=\"1\" class=\"dataframe\">\n",
       "  <thead>\n",
       "    <tr style=\"text-align: right;\">\n",
       "      <th></th>\n",
       "      <th>client_pin</th>\n",
       "      <th>timestamp</th>\n",
       "      <th>multi_class_target</th>\n",
       "    </tr>\n",
       "  </thead>\n",
       "  <tbody>\n",
       "    <tr>\n",
       "      <th>0</th>\n",
       "      <td>f0c674b2bb4dc64be607029271d706ec</td>\n",
       "      <td>2020-08-01 00:00:53</td>\n",
       "      <td>need_to_predict</td>\n",
       "    </tr>\n",
       "    <tr>\n",
       "      <th>1</th>\n",
       "      <td>90725b54ce77576883813d87749df6bd</td>\n",
       "      <td>2020-08-01 00:02:57</td>\n",
       "      <td>need_to_predict</td>\n",
       "    </tr>\n",
       "    <tr>\n",
       "      <th>2</th>\n",
       "      <td>eb0f82d74c7b7bd5eafbd5b5f8cb3e2a</td>\n",
       "      <td>2020-08-01 00:03:14</td>\n",
       "      <td>need_to_predict</td>\n",
       "    </tr>\n",
       "  </tbody>\n",
       "</table>\n",
       "</div>"
      ],
      "text/plain": [
       "                         client_pin           timestamp multi_class_target\n",
       "0  f0c674b2bb4dc64be607029271d706ec 2020-08-01 00:00:53    need_to_predict\n",
       "1  90725b54ce77576883813d87749df6bd 2020-08-01 00:02:57    need_to_predict\n",
       "2  eb0f82d74c7b7bd5eafbd5b5f8cb3e2a 2020-08-01 00:03:14    need_to_predict"
      ]
     },
     "execution_count": 91,
     "metadata": {},
     "output_type": "execute_result"
    }
   ],
   "source": [
    "test_part = pd.read_csv('alfabattle2_prediction_session_timestamp.csv', parse_dates=['timestamp'])\n",
    "test_part['multi_class_target'] = 'need_to_predict'\n",
    "print(test_part.shape)\n",
    "test_part.head(3)"
   ]
  },
  {
   "cell_type": "code",
   "execution_count": 92,
   "metadata": {},
   "outputs": [
    {
     "name": "stdout",
     "output_type": "stream",
     "text": [
      "(79268, 2)\n"
     ]
    },
    {
     "data": {
      "text/html": [
       "<div>\n",
       "<style scoped>\n",
       "    .dataframe tbody tr th:only-of-type {\n",
       "        vertical-align: middle;\n",
       "    }\n",
       "\n",
       "    .dataframe tbody tr th {\n",
       "        vertical-align: top;\n",
       "    }\n",
       "\n",
       "    .dataframe thead th {\n",
       "        text-align: right;\n",
       "    }\n",
       "</style>\n",
       "<table border=\"1\" class=\"dataframe\">\n",
       "  <thead>\n",
       "    <tr style=\"text-align: right;\">\n",
       "      <th></th>\n",
       "      <th>client_pin</th>\n",
       "      <th>prediction</th>\n",
       "    </tr>\n",
       "  </thead>\n",
       "  <tbody>\n",
       "    <tr>\n",
       "      <th>0</th>\n",
       "      <td>f0c674b2bb4dc64be607029271d706ec</td>\n",
       "      <td>credit_info</td>\n",
       "    </tr>\n",
       "    <tr>\n",
       "      <th>1</th>\n",
       "      <td>90725b54ce77576883813d87749df6bd</td>\n",
       "      <td>credit_info</td>\n",
       "    </tr>\n",
       "    <tr>\n",
       "      <th>2</th>\n",
       "      <td>eb0f82d74c7b7bd5eafbd5b5f8cb3e2a</td>\n",
       "      <td>own_transfer</td>\n",
       "    </tr>\n",
       "  </tbody>\n",
       "</table>\n",
       "</div>"
      ],
      "text/plain": [
       "                         client_pin    prediction\n",
       "0  f0c674b2bb4dc64be607029271d706ec   credit_info\n",
       "1  90725b54ce77576883813d87749df6bd   credit_info\n",
       "2  eb0f82d74c7b7bd5eafbd5b5f8cb3e2a  own_transfer"
      ]
     },
     "execution_count": 92,
     "metadata": {},
     "output_type": "execute_result"
    }
   ],
   "source": [
    "sample_sub = pd.read_csv('alfabattle2_abattle_sample_prediction.csv')\n",
    "print(sample_sub.shape)\n",
    "sample_sub.head(3)"
   ]
  },
  {
   "cell_type": "markdown",
   "metadata": {},
   "source": [
    "### EDA"
   ]
  },
  {
   "cell_type": "code",
   "execution_count": 93,
   "metadata": {
    "scrolled": true
   },
   "outputs": [
    {
     "data": {
      "text/plain": [
       "count    79268.000000\n",
       "mean        63.901574\n",
       "std         85.280433\n",
       "min          1.000000\n",
       "5%           3.000000\n",
       "10%          5.000000\n",
       "15%          8.000000\n",
       "50%         35.000000\n",
       "max       1646.000000\n",
       "Name: client_pin, dtype: float64"
      ]
     },
     "execution_count": 93,
     "metadata": {},
     "output_type": "execute_result"
    }
   ],
   "source": [
    "train_part.client_pin.value_counts().describe(percentiles=[.05, .10, .15])"
   ]
  },
  {
   "cell_type": "code",
   "execution_count": 94,
   "metadata": {
    "scrolled": false
   },
   "outputs": [
    {
     "data": {
      "text/plain": [
       "main_screen             2280763\n",
       "statement                922569\n",
       "credit_info              498698\n",
       "own_transfer             290077\n",
       "mobile_recharge          266485\n",
       "phone_money_transfer     232911\n",
       "card2card_transfer       193378\n",
       "chat                     184775\n",
       "card_recharge            138616\n",
       "invest                    57078\n",
       "Name: multi_class_target, dtype: int64"
      ]
     },
     "execution_count": 94,
     "metadata": {},
     "output_type": "execute_result"
    }
   ],
   "source": [
    "train_part.multi_class_target.value_counts()"
   ]
  },
  {
   "cell_type": "markdown",
   "metadata": {},
   "source": [
    "### Concatanation"
   ]
  },
  {
   "cell_type": "code",
   "execution_count": 95,
   "metadata": {},
   "outputs": [
    {
     "data": {
      "text/plain": [
       "array(['main_screen', 'invest', 'statement', 'phone_money_transfer',\n",
       "       'own_transfer', 'credit_info', 'chat', 'card2card_transfer',\n",
       "       'mobile_recharge', 'card_recharge'], dtype=object)"
      ]
     },
     "execution_count": 95,
     "metadata": {},
     "output_type": "execute_result"
    }
   ],
   "source": [
    "train_part.multi_class_target.unique()"
   ]
  },
  {
   "cell_type": "code",
   "execution_count": 96,
   "metadata": {},
   "outputs": [
    {
     "name": "stdout",
     "output_type": "stream",
     "text": [
      "(5144618, 3)\n"
     ]
    },
    {
     "data": {
      "text/html": [
       "<div>\n",
       "<style scoped>\n",
       "    .dataframe tbody tr th:only-of-type {\n",
       "        vertical-align: middle;\n",
       "    }\n",
       "\n",
       "    .dataframe tbody tr th {\n",
       "        vertical-align: top;\n",
       "    }\n",
       "\n",
       "    .dataframe thead th {\n",
       "        text-align: right;\n",
       "    }\n",
       "</style>\n",
       "<table border=\"1\" class=\"dataframe\">\n",
       "  <thead>\n",
       "    <tr style=\"text-align: right;\">\n",
       "      <th></th>\n",
       "      <th>client_pin</th>\n",
       "      <th>timestamp</th>\n",
       "      <th>multi_class_target</th>\n",
       "    </tr>\n",
       "  </thead>\n",
       "  <tbody>\n",
       "    <tr>\n",
       "      <th>0</th>\n",
       "      <td>000033b6509acd1c8eb0d06ebd2e1de9</td>\n",
       "      <td>2020-02-02 22:31:04</td>\n",
       "      <td>statement</td>\n",
       "    </tr>\n",
       "    <tr>\n",
       "      <th>1</th>\n",
       "      <td>000033b6509acd1c8eb0d06ebd2e1de9</td>\n",
       "      <td>2020-02-19 18:37:26</td>\n",
       "      <td>main_screen</td>\n",
       "    </tr>\n",
       "    <tr>\n",
       "      <th>2</th>\n",
       "      <td>000033b6509acd1c8eb0d06ebd2e1de9</td>\n",
       "      <td>2020-02-22 23:18:45</td>\n",
       "      <td>main_screen</td>\n",
       "    </tr>\n",
       "  </tbody>\n",
       "</table>\n",
       "</div>"
      ],
      "text/plain": [
       "                         client_pin           timestamp multi_class_target\n",
       "0  000033b6509acd1c8eb0d06ebd2e1de9 2020-02-02 22:31:04          statement\n",
       "1  000033b6509acd1c8eb0d06ebd2e1de9 2020-02-19 18:37:26        main_screen\n",
       "2  000033b6509acd1c8eb0d06ebd2e1de9 2020-02-22 23:18:45        main_screen"
      ]
     },
     "execution_count": 96,
     "metadata": {},
     "output_type": "execute_result"
    }
   ],
   "source": [
    "Xy = pd.concat([train_part, test_part], axis=0).sort_values(['client_pin', 'timestamp'], ascending=[True, True])\n",
    "Xy.reset_index(inplace=True, drop=True)\n",
    "print(Xy.shape)\n",
    "Xy.head(3)"
   ]
  },
  {
   "cell_type": "code",
   "execution_count": 97,
   "metadata": {},
   "outputs": [
    {
     "data": {
      "text/plain": [
       "True"
      ]
     },
     "execution_count": 97,
     "metadata": {},
     "output_type": "execute_result"
    }
   ],
   "source": [
    "Xy.iloc[1, 1] < Xy.iloc[2, 1] # сравнение работает!"
   ]
  },
  {
   "cell_type": "markdown",
   "metadata": {},
   "source": [
    "### Feature engineering"
   ]
  },
  {
   "cell_type": "code",
   "execution_count": 98,
   "metadata": {},
   "outputs": [
    {
     "data": {
      "application/vnd.jupyter.widget-view+json": {
       "model_id": "464787bcf2cf46dea51cec422d15414e",
       "version_major": 2,
       "version_minor": 0
      },
      "text/plain": [
       "HBox(children=(FloatProgress(value=0.0, max=8.0), HTML(value='')))"
      ]
     },
     "metadata": {},
     "output_type": "display_data"
    },
    {
     "name": "stdout",
     "output_type": "stream",
     "text": [
      "\n"
     ]
    }
   ],
   "source": [
    "for k in trange(1, 9, 1):\n",
    "    Xy.loc[:, f'target_lag_{k}'] = Xy.groupby(['client_pin'])['multi_class_target'].shift(k)\n",
    "    Xy.loc[:, f'time_diff_{k}'] = Xy.groupby(['client_pin'])['timestamp'].diff(k).astype('timedelta64[s]')"
   ]
  },
  {
   "cell_type": "code",
   "execution_count": 99,
   "metadata": {},
   "outputs": [
    {
     "name": "stdout",
     "output_type": "stream",
     "text": [
      "(4598578, 19)\n",
      "CPU times: user 3min 50s, sys: 8.81 s, total: 3min 59s\n",
      "Wall time: 4min 2s\n"
     ]
    },
    {
     "data": {
      "text/html": [
       "<div>\n",
       "<style scoped>\n",
       "    .dataframe tbody tr th:only-of-type {\n",
       "        vertical-align: middle;\n",
       "    }\n",
       "\n",
       "    .dataframe tbody tr th {\n",
       "        vertical-align: top;\n",
       "    }\n",
       "\n",
       "    .dataframe thead th {\n",
       "        text-align: right;\n",
       "    }\n",
       "</style>\n",
       "<table border=\"1\" class=\"dataframe\">\n",
       "  <thead>\n",
       "    <tr style=\"text-align: right;\">\n",
       "      <th></th>\n",
       "      <th>client_pin</th>\n",
       "      <th>timestamp</th>\n",
       "      <th>multi_class_target</th>\n",
       "      <th>target_lag_1</th>\n",
       "      <th>time_diff_1</th>\n",
       "      <th>target_lag_2</th>\n",
       "      <th>time_diff_2</th>\n",
       "      <th>target_lag_3</th>\n",
       "      <th>time_diff_3</th>\n",
       "      <th>target_lag_4</th>\n",
       "      <th>time_diff_4</th>\n",
       "      <th>target_lag_5</th>\n",
       "      <th>time_diff_5</th>\n",
       "      <th>target_lag_6</th>\n",
       "      <th>time_diff_6</th>\n",
       "      <th>target_lag_7</th>\n",
       "      <th>time_diff_7</th>\n",
       "      <th>target_lag_8</th>\n",
       "      <th>time_diff_8</th>\n",
       "    </tr>\n",
       "  </thead>\n",
       "  <tbody>\n",
       "    <tr>\n",
       "      <th>0</th>\n",
       "      <td>000033b6509acd1c8eb0d06ebd2e1de9</td>\n",
       "      <td>2020-03-10 18:17:27</td>\n",
       "      <td>main_screen</td>\n",
       "      <td>main_screen</td>\n",
       "      <td>110837.0</td>\n",
       "      <td>main_screen</td>\n",
       "      <td>262795.0</td>\n",
       "      <td>main_screen</td>\n",
       "      <td>376670.0</td>\n",
       "      <td>main_screen</td>\n",
       "      <td>502662.0</td>\n",
       "      <td>main_screen</td>\n",
       "      <td>1039650.0</td>\n",
       "      <td>main_screen</td>\n",
       "      <td>1450722.0</td>\n",
       "      <td>main_screen</td>\n",
       "      <td>1726801.0</td>\n",
       "      <td>statement</td>\n",
       "      <td>3181583.0</td>\n",
       "    </tr>\n",
       "    <tr>\n",
       "      <th>1</th>\n",
       "      <td>000033b6509acd1c8eb0d06ebd2e1de9</td>\n",
       "      <td>2020-03-12 15:07:50</td>\n",
       "      <td>main_screen</td>\n",
       "      <td>main_screen</td>\n",
       "      <td>161423.0</td>\n",
       "      <td>main_screen</td>\n",
       "      <td>272260.0</td>\n",
       "      <td>main_screen</td>\n",
       "      <td>424218.0</td>\n",
       "      <td>main_screen</td>\n",
       "      <td>538093.0</td>\n",
       "      <td>main_screen</td>\n",
       "      <td>664085.0</td>\n",
       "      <td>main_screen</td>\n",
       "      <td>1201073.0</td>\n",
       "      <td>main_screen</td>\n",
       "      <td>1612145.0</td>\n",
       "      <td>main_screen</td>\n",
       "      <td>1888224.0</td>\n",
       "    </tr>\n",
       "    <tr>\n",
       "      <th>2</th>\n",
       "      <td>000033b6509acd1c8eb0d06ebd2e1de9</td>\n",
       "      <td>2020-03-12 17:19:50</td>\n",
       "      <td>main_screen</td>\n",
       "      <td>main_screen</td>\n",
       "      <td>7920.0</td>\n",
       "      <td>main_screen</td>\n",
       "      <td>169343.0</td>\n",
       "      <td>main_screen</td>\n",
       "      <td>280180.0</td>\n",
       "      <td>main_screen</td>\n",
       "      <td>432138.0</td>\n",
       "      <td>main_screen</td>\n",
       "      <td>546013.0</td>\n",
       "      <td>main_screen</td>\n",
       "      <td>672005.0</td>\n",
       "      <td>main_screen</td>\n",
       "      <td>1208993.0</td>\n",
       "      <td>main_screen</td>\n",
       "      <td>1620065.0</td>\n",
       "    </tr>\n",
       "  </tbody>\n",
       "</table>\n",
       "</div>"
      ],
      "text/plain": [
       "                         client_pin           timestamp multi_class_target  \\\n",
       "0  000033b6509acd1c8eb0d06ebd2e1de9 2020-03-10 18:17:27        main_screen   \n",
       "1  000033b6509acd1c8eb0d06ebd2e1de9 2020-03-12 15:07:50        main_screen   \n",
       "2  000033b6509acd1c8eb0d06ebd2e1de9 2020-03-12 17:19:50        main_screen   \n",
       "\n",
       "  target_lag_1  time_diff_1 target_lag_2  time_diff_2 target_lag_3  \\\n",
       "0  main_screen     110837.0  main_screen     262795.0  main_screen   \n",
       "1  main_screen     161423.0  main_screen     272260.0  main_screen   \n",
       "2  main_screen       7920.0  main_screen     169343.0  main_screen   \n",
       "\n",
       "   time_diff_3 target_lag_4  time_diff_4 target_lag_5  time_diff_5  \\\n",
       "0     376670.0  main_screen     502662.0  main_screen    1039650.0   \n",
       "1     424218.0  main_screen     538093.0  main_screen     664085.0   \n",
       "2     280180.0  main_screen     432138.0  main_screen     546013.0   \n",
       "\n",
       "  target_lag_6  time_diff_6 target_lag_7  time_diff_7 target_lag_8  \\\n",
       "0  main_screen    1450722.0  main_screen    1726801.0    statement   \n",
       "1  main_screen    1201073.0  main_screen    1612145.0  main_screen   \n",
       "2  main_screen     672005.0  main_screen    1208993.0  main_screen   \n",
       "\n",
       "   time_diff_8  \n",
       "0    3181583.0  \n",
       "1    1888224.0  \n",
       "2    1620065.0  "
      ]
     },
     "execution_count": 99,
     "metadata": {},
     "output_type": "execute_result"
    }
   ],
   "source": [
    "%%time\n",
    "Xy_cleaned = Xy.groupby('client_pin').apply(lambda group: group.iloc[8:, 1:] \\\n",
    "                                            if group.shape[0] >= 9 else group.iloc[:, 1:]\n",
    "                                           ).reset_index().drop(columns=['level_1'])\n",
    "print(Xy_cleaned.shape)\n",
    "Xy_cleaned.head(3)"
   ]
  },
  {
   "cell_type": "code",
   "execution_count": 123,
   "metadata": {},
   "outputs": [
    {
     "name": "stdout",
     "output_type": "stream",
     "text": [
      "CPU times: user 3min 59s, sys: 8.22 s, total: 4min 7s\n",
      "Wall time: 4min 11s\n"
     ]
    },
    {
     "data": {
      "text/plain": [
       "((293217, 20), (79268, 19))"
      ]
     },
     "execution_count": 123,
     "metadata": {},
     "output_type": "execute_result"
    }
   ],
   "source": [
    "%%time\n",
    "Xy_cleaned_train = Xy_cleaned.groupby('client_pin').apply(lambda group: group.iloc[-5:-1, 1:]).reset_index()\n",
    "Xy_cleaned_test = Xy_cleaned.groupby('client_pin').apply(lambda group: group.iloc[-1, 1:]).reset_index()\n",
    "Xy_cleaned_train.shape, Xy_cleaned_test.shape"
   ]
  },
  {
   "cell_type": "code",
   "execution_count": 124,
   "metadata": {},
   "outputs": [],
   "source": [
    "X_train, y_train = Xy_cleaned_train.drop(columns=['multi_class_target']), Xy_cleaned_train['multi_class_target']\n",
    "X_test, y_test = Xy_cleaned_test.drop(columns=['multi_class_target']), Xy_cleaned_test['multi_class_target']"
   ]
  },
  {
   "cell_type": "code",
   "execution_count": 125,
   "metadata": {},
   "outputs": [],
   "source": [
    "X_train.drop(columns=['timestamp', 'level_1'], inplace=True)\n",
    "X_test.drop(columns=['timestamp'], inplace=True)"
   ]
  },
  {
   "cell_type": "code",
   "execution_count": 126,
   "metadata": {},
   "outputs": [
    {
     "data": {
      "text/plain": [
       "Index(['client_pin', 'target_lag_1', 'time_diff_1', 'target_lag_2',\n",
       "       'time_diff_2', 'target_lag_3', 'time_diff_3', 'target_lag_4',\n",
       "       'time_diff_4', 'target_lag_5', 'time_diff_5', 'target_lag_6',\n",
       "       'time_diff_6', 'target_lag_7', 'time_diff_7', 'target_lag_8',\n",
       "       'time_diff_8'],\n",
       "      dtype='object')"
      ]
     },
     "execution_count": 126,
     "metadata": {},
     "output_type": "execute_result"
    }
   ],
   "source": [
    "X_train.columns"
   ]
  },
  {
   "cell_type": "code",
   "execution_count": 127,
   "metadata": {},
   "outputs": [],
   "source": [
    "cat_features = ['client_pin'] + [f'target_lag_{k}' for k in range(1, 9)]\n",
    "num_features = [f'time_diff_{k}' for k in range(1, 9)]"
   ]
  },
  {
   "cell_type": "code",
   "execution_count": 128,
   "metadata": {},
   "outputs": [],
   "source": [
    "X_train[cat_features] = X_train[cat_features].fillna(value='nan_category')\n",
    "X_test[cat_features] = X_test[cat_features].fillna(value='nan_category')\n",
    "\n",
    "X_train[num_features] = X_train[num_features].fillna(value=25*10**6)\n",
    "X_test[num_features] = X_test[num_features].fillna(value=25*10**6)"
   ]
  },
  {
   "cell_type": "markdown",
   "metadata": {},
   "source": [
    "### Models"
   ]
  },
  {
   "cell_type": "code",
   "execution_count": 129,
   "metadata": {},
   "outputs": [],
   "source": [
    "from sklearn.metrics import f1_score\n",
    "from catboost import CatBoostClassifier"
   ]
  },
  {
   "cell_type": "code",
   "execution_count": 132,
   "metadata": {
    "scrolled": false
   },
   "outputs": [
    {
     "name": "stdout",
     "output_type": "stream",
     "text": [
      "0:\tlearn: 1.8826427\ttotal: 4.14s\tremaining: 7m 10s\n",
      "5:\tlearn: 1.5130006\ttotal: 26.4s\tremaining: 7m 16s\n",
      "10:\tlearn: 1.4338440\ttotal: 51.3s\tremaining: 7m 18s\n",
      "15:\tlearn: 1.3946854\ttotal: 1m 18s\tremaining: 7m 15s\n",
      "20:\tlearn: 1.3712596\ttotal: 1m 45s\tremaining: 7m\n",
      "25:\tlearn: 1.3589457\ttotal: 2m 12s\tremaining: 6m 41s\n",
      "30:\tlearn: 1.3518874\ttotal: 2m 39s\tremaining: 6m 19s\n",
      "35:\tlearn: 1.3455812\ttotal: 3m 5s\tremaining: 5m 56s\n",
      "40:\tlearn: 1.3407339\ttotal: 3m 32s\tremaining: 5m 32s\n",
      "45:\tlearn: 1.3372817\ttotal: 4m\tremaining: 5m 7s\n",
      "50:\tlearn: 1.3336234\ttotal: 4m 26s\tremaining: 4m 42s\n",
      "55:\tlearn: 1.3305333\ttotal: 4m 55s\tremaining: 4m 18s\n",
      "60:\tlearn: 1.3277326\ttotal: 5m 28s\tremaining: 3m 56s\n",
      "65:\tlearn: 1.3253017\ttotal: 5m 59s\tremaining: 3m 32s\n",
      "70:\tlearn: 1.3233199\ttotal: 6m 27s\tremaining: 3m 5s\n",
      "75:\tlearn: 1.3207331\ttotal: 6m 54s\tremaining: 2m 38s\n",
      "80:\tlearn: 1.3187215\ttotal: 7m 22s\tremaining: 2m 11s\n",
      "85:\tlearn: 1.3170610\ttotal: 7m 49s\tremaining: 1m 43s\n",
      "90:\tlearn: 1.3152348\ttotal: 8m 16s\tremaining: 1m 16s\n",
      "95:\tlearn: 1.3136357\ttotal: 8m 42s\tremaining: 49s\n",
      "100:\tlearn: 1.3124412\ttotal: 9m 9s\tremaining: 21.8s\n",
      "104:\tlearn: 1.3115782\ttotal: 9m 30s\tremaining: 0us\n"
     ]
    },
    {
     "data": {
      "text/plain": [
       "<catboost.core.CatBoostClassifier at 0x7feeb02896d0>"
      ]
     },
     "execution_count": 132,
     "metadata": {},
     "output_type": "execute_result"
    }
   ],
   "source": [
    "model = CatBoostClassifier(allow_writing_files=False, verbose=5, cat_features=cat_features, \n",
    "                           n_estimators=105, eta=0.20)\n",
    "\n",
    "model.fit(X_train, y_train)"
   ]
  },
  {
   "cell_type": "code",
   "execution_count": 328,
   "metadata": {},
   "outputs": [],
   "source": [
    "# # сохраняем модель\n",
    "# import joblib\n",
    "# joblib.dump(\n",
    "#     value=model,\n",
    "#     filename='./tmp/catboost_model.pkl'\n",
    "# );"
   ]
  },
  {
   "cell_type": "code",
   "execution_count": 133,
   "metadata": {},
   "outputs": [
    {
     "name": "stdout",
     "output_type": "stream",
     "text": [
      "F1 на обучении: 0.427\n"
     ]
    }
   ],
   "source": [
    "print('F1 на обучении:', \n",
    "        round(f1_score(\n",
    "            y_true=y_train,\n",
    "            y_pred=model.predict(X_train),\n",
    "            average='macro'\n",
    "        ), 3)\n",
    "     )"
   ]
  },
  {
   "cell_type": "code",
   "execution_count": 138,
   "metadata": {},
   "outputs": [],
   "source": [
    "sample_sub['client_pin'] = X_test.client_pin.values\n",
    "sample_sub['prediction'] = model.predict(X_test)"
   ]
  },
  {
   "cell_type": "code",
   "execution_count": 139,
   "metadata": {},
   "outputs": [],
   "source": [
    "sample_sub.to_csv('alfaboosters_1.csv', index=False)"
   ]
  }
 ],
 "metadata": {
  "kernelspec": {
   "display_name": "Python 3",
   "language": "python",
   "name": "python3"
  },
  "language_info": {
   "codemirror_mode": {
    "name": "ipython",
    "version": 3
   },
   "file_extension": ".py",
   "mimetype": "text/x-python",
   "name": "python",
   "nbconvert_exporter": "python",
   "pygments_lexer": "ipython3",
   "version": "3.8.1"
  }
 },
 "nbformat": 4,
 "nbformat_minor": 2
}
